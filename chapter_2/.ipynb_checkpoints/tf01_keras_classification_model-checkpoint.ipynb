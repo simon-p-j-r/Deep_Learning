{
 "cells": [
  {
   "cell_type": "code",
   "execution_count": null,
   "metadata": {},
   "outputs": [
    {
     "name": "stderr",
     "output_type": "stream",
     "text": [
      "Matplotlib is building the font cache; this may take a moment.\n"
     ]
    }
   ],
   "source": [
    "import matplotlib as mpl\n",
    "import matplotlib.pyplot as plt\n",
    "# 一个画图的魔法方法\n",
    "%matplotlib inline\n",
    "import numpy as np\n",
    "import sklearn\n",
    "import pandas as pd\n",
    "import os\n",
    "import sys\n",
    "import time\n",
    "import tensorflow as tf\n",
    "\n",
    "from tensorflow import keras\n",
    "\n",
    "print(tf.__version__)\n",
    "print(sys.version_info)\n",
    "for module in mpl, np, pd, sklearn, tf, keras:\n",
    "    print(module.__name__, module.__version__)\n"
   ]
  },
  {
   "cell_type": "code",
   "execution_count": 2,
   "metadata": {},
   "outputs": [
    {
     "name": "stdout",
     "output_type": "stream",
     "text": [
      "(55000, 28, 28) (55000,)\n",
      "(5000, 28, 28) (5000,)\n",
      "(10000, 28, 28) (10000,)\n"
     ]
    }
   ],
   "source": [
    "# fashion_mnist图像分类数据集\n",
    "fashion_mnist = keras.datasets.fashion_mnist\n",
    "\n",
    "(x_train_all, y_train_all), (x_test, y_test) = fashion_mnist.load_data()\n",
    "\n",
    "x_valid, x_train = x_train_all[:5000], x_train_all[5000:]\n",
    "y_valid, y_train = y_train_all[:5000], y_train_all[5000:]\n",
    "\n",
    "#得到的是np，训练集，验证集，测试集\n",
    "print(x_train.shape, y_train.shape)\n",
    "print(x_valid.shape, y_valid.shape)\n",
    "print(x_test.shape, y_test.shape)"
   ]
  },
  {
   "cell_type": "code",
   "execution_count": 5,
   "metadata": {},
   "outputs": [
    {
     "data": {
      "text/plain": [
       "784"
      ]
     },
     "execution_count": 5,
     "metadata": {},
     "output_type": "execute_result"
    }
   ],
   "source": [
    "28*28  #如果非要对应多少特征，就是784个特征"
   ]
  },
  {
   "cell_type": "code",
   "execution_count": 3,
   "metadata": {},
   "outputs": [
    {
     "data": {
      "text/plain": [
       "numpy.ndarray"
      ]
     },
     "execution_count": 3,
     "metadata": {},
     "output_type": "execute_result"
    }
   ],
   "source": [
    "type(x_train)"
   ]
  },
  {
   "cell_type": "code",
   "execution_count": 4,
   "metadata": {},
   "outputs": [
    {
     "data": {
      "text/plain": [
       "4"
      ]
     },
     "execution_count": 4,
     "metadata": {},
     "output_type": "execute_result"
    }
   ],
   "source": [
    "y_train[0]"
   ]
  },
  {
   "cell_type": "code",
   "execution_count": 6,
   "metadata": {},
   "outputs": [
    {
     "name": "stdout",
     "output_type": "stream",
     "text": [
      "[[  0   0   0   0   0   0   0   0   0   0   0   0   0   0   0   0   0   0\n",
      "    0   1   0   0   0   0   0   0   0   0]\n",
      " [  0   0   0   0   0   0   0   0   0   0   0  44 127 182 185 161 120  55\n",
      "    0   0   0   0   0   0   0   0   0   0]\n",
      " [  0   0   0   0   0   0   0   0   0  42 198 251 255 251 249 247 255 252\n",
      "  214 100   0   0   0   0   0   0   0   0]\n",
      " [  0   0   0   0   0   0   2   0   0 233 252 237 239 234 237 235 237 237\n",
      "  254 227   0   0   0   0   1   0   0   0]\n",
      " [  0   0   0   0   0   2   0   0  16 210 225 215 175 217 216 193 196 226\n",
      "  221 209  50   0   0   2   0   0   0   0]\n",
      " [  0   0   0   0   2   0   0 199 229 232 230 245 204 219 253 245 207 194\n",
      "  223 231 236 235   0   0   3   0   0   0]\n",
      " [  0   0   0   0   1   0 137 235 204 209 201 209 234 190 234 218 215 238\n",
      "  239 204 189 224 154   0   0   0   0   0]\n",
      " [  0   0   0   0   0   0 194 201 200 209 202 193 205 194 183 218 231 197\n",
      "  172 181 193 205 199   0   0   0   0   0]\n",
      " [  0   0   0   0   0   3 212 203 188 189 196 198 198 201 196 217 179 167\n",
      "  183 217 197 202 219  30   0   0   0   0]\n",
      " [  0   0   0   0   0  34 225 200 194 190 188 192 196 192 170 202 190 201\n",
      "  195 200 201 209 227  50   0   0   0   0]\n",
      " [  0   0   0   0   0  68 225 210 211 198 192 196 204 196 181 212 197 195\n",
      "  192 206 220 210 229  93   0   0   0   0]\n",
      " [  0   0   0   0   0 111 223 227 253 209 196 204 211 206 183 216 206 210\n",
      "  203 215 244 224 227 150   0   0   0   0]\n",
      " [  0   0   0   0   0 139 225 224 255 202 206 212 209 211 190 213 202 207\n",
      "  206 222 255 230 220 190   0   0   0   0]\n",
      " [  0   0   0   0   0 180 226 224 255 199 204 207 214 214 190 216 206 203\n",
      "  205 219 243 224 214 234   0   0   0   0]\n",
      " [  0   0   0   0   0 225 223 228 254 209 206 208 213 210 191 215 207 204\n",
      "  208 211 249 226 214 255  38   0   0   0]\n",
      " [  0   0   0   0   0 250 232 240 239 211 203 209 205 211 197 215 208 208\n",
      "  214 213 239 231 219 255  81   0   0   0]\n",
      " [  0   0   0   0   0 248 236 247 240 203 200 208 206 214 193 213 212 208\n",
      "  212 211 243 242 225 254  66   0   0   0]\n",
      " [  0   0   0   0   0 247 230 252 226 199 211 202 211 213 182 213 212 206\n",
      "  202 219 207 247 222 237 104   0   0   0]\n",
      " [  0   0   0   0  10 244 219 250 205 199 209 202 209 211 189 214 206 210\n",
      "  200 212 154 240 208 219 140   0   0   0]\n",
      " [  0   0   0   0  21 255 222 238 184 210 192 206 209 210 189 213 211 209\n",
      "  192 228 155 226 238 241 166   0   0   0]\n",
      " [  0   0   0   0  37 245 226 241 150 197 189 204 209 210 183 213 213 201\n",
      "  184 215 146 216 236 225 154   0   0   0]\n",
      " [  0   0   0   0  58 239 227 255 158 193 195 204 209 213 180 207 217 199\n",
      "  194 211 158 219 236 216 151   0   0   0]\n",
      " [  0   0   0   0  68 233 226 243 139 200 193 205 210 208 180 205 212 203\n",
      "  196 216 157 179 255 216 155   0   0   0]\n",
      " [  0   0   0   0  81 225 224 211 138 219 185 201 213 207 197 226 212 200\n",
      "  190 215 183  90 255 211 147   0   0   0]\n",
      " [  0   0   0   0  91 210 230 158 114 205 187 208 209 206 193 210 211 204\n",
      "  195 204 181  23 255 213 158   0   0   0]\n",
      " [  0   0   0   0  87 205 232 109 164 255 214 224 222 210 197 214 225 222\n",
      "  211 220 217   0 234 216 169   0   0   0]\n",
      " [  0   0   0   0  92 213 232 146   5 134 151 162 170 183 182 164 166 178\n",
      "  162 156  98   0 240 225 210   0   0   0]\n",
      " [  0   0   0   0  43 164 206 141   0   0   0   0   0   0   0   0   0   0\n",
      "    0   0   0   0 127 125  76   0   0   0]]\n"
     ]
    },
    {
     "data": {
      "image/png": "[encoded data removed]",
      "text/plain": [
       "<Figure size 432x288 with 2 Axes>"
      ]
     },
     "metadata": {
      "needs_background": "light"
     },
     "output_type": "display_data"
    },
    {
     "name": "stdout",
     "output_type": "stream",
     "text": [
      "184\n",
      "0\n"
     ]
    }
   ],
   "source": [
    "def show_single_image(img_arr):\n",
    "    plt.imshow(img_arr, cmap=\"binary\")\n",
    "    plt.colorbar()  #旁边显示一个色阶条\n",
    "    plt.show()\n",
    "\n",
    "\n",
    "#依次看一下x_train[0]，x_train[1]，x_train[2]就可以理解下面的循环\n",
    "print(x_train[0])\n",
    "show_single_image(x_train[1])\n",
    "print(x_train[1,0,18])\n",
    "print(y_train[1])"
   ]
  },
  {
   "cell_type": "code",
   "execution_count": 9,
   "metadata": {},
   "outputs": [
    {
     "data": {
      "image/png": "[encoded data removed]",
      "text/plain": [
       "<Figure size 504x345.6 with 15 Axes>"
      ]
     },
     "metadata": {
      "needs_background": "light"
     },
     "output_type": "display_data"
    }
   ],
   "source": [
    "def show_imgs(n_rows, n_cols, x_data, y_data, class_names):\n",
    "    assert len(x_data) == len(y_data)  #x和y的样本数一致\n",
    "    assert n_rows * n_cols < len(x_data)  #确保打印的图片小于总样本数\n",
    "    plt.figure(figsize = (n_cols * 1.4, n_rows * 1.6))  #宽1.4高1.6\n",
    "    for row in range(n_rows):\n",
    "        for col in range(n_cols):\n",
    "            index = n_cols * row + col \n",
    "            plt.subplot(n_rows, n_cols, index+1)#因为从1开始\n",
    "            plt.imshow(x_data[index], cmap=\"binary\",\n",
    "                       interpolation = 'nearest')\n",
    "            plt.axis('off')#去除坐标系\n",
    "            plt.title(class_names[y_data[index]])\n",
    "    plt.show()\n",
    "#已知的图片类别\n",
    "# lables在这个路径https://github.com/zalandoresearch/fashion-mnist\n",
    "class_names = ['T-shirt', 'Trouser', 'Pullover', 'Dress',\n",
    "               'Coat', 'Sandal', 'Shirt', 'Sneaker',\n",
    "               'Bag', 'Ankle boot']\n",
    "#只是打印了前15个样本\n",
    "show_imgs(3, 5, x_train, y_train, class_names)\n"
   ]
  },
  {
   "cell_type": "code",
   "execution_count": 10,
   "metadata": {},
   "outputs": [
    {
     "name": "stdout",
     "output_type": "stream",
     "text": [
      "(None, 784)\n"
     ]
    }
   ],
   "source": [
    "# tf.keras.models.Sequential(),可以看下官网\n",
    "# 功能：Sequential将线性的层堆叠到一个tf.keras.Model\n",
    "\n",
    "model = keras.models.Sequential()\n",
    "#把28*28的图片展平为一个一维向量,通过下面打印可以看到两个想乘\n",
    "model.add(keras.layers.Flatten(input_shape=[28, 28]))\n",
    "print(model.output_shape)\n",
    "#Dense是全连接层，添加全连接层，单元数是300，可以对比300和100的差异\n",
    "# relu: y = max(0, x)\n",
    "# softmax: 将向量变成概率分布. x = [x1, x2, x3], \n",
    "#          y = [e^x1/sum, e^x2/sum, e^x3/sum], sum = e^x1 + e^x2 + e^x3\n",
    "model.add(keras.layers.Dense(300, activation=\"relu\"))\n",
    "model.add(keras.layers.Dense(100, activation=\"relu\"))\n",
    "model.add(keras.layers.Dense(10, activation=\"softmax\"))\n",
    "\n",
    "\n",
    "# model = keras.models.Sequential([\n",
    "#     keras.layers.Flatten(input_shape=[28, 28]),\n",
    "#     keras.layers.Dense(300, activation='relu'),\n",
    "#     keras.layers.Dense(100, activation='relu'),\n",
    "#     keras.layers.Dense(10, activation='softmax')\n",
    "# ])\n",
    "\n",
    "\n",
    "\n",
    "# reason for sparse: y->index. y->one_hot->[] \n",
    "#loss是损失函数 y如果只是一个数，那么使用sparse_categorical_crossentropy\n",
    "#sparse_categorical_crossentropy计算稀疏分类crossentropy损失。\n",
    "# 计算的分类值是 0,1,2,...9\n",
    "# 如果是一个向量，那么使用categorical_crossentropy，详情看课件\n",
    "#optimizer是优化方法\n",
    "# metrics模型在训练和测试期间要评估的指标列表\n",
    "model.compile(loss=\"sparse_categorical_crossentropy\",\n",
    "              optimizer = keras.optimizers.SGD(0.001),\n",
    "              metrics = [\"accuracy\"])"
   ]
  },
  {
   "cell_type": "code",
   "execution_count": 11,
   "metadata": {},
   "outputs": [
    {
     "data": {
      "text/plain": [
       "[<tensorflow.python.keras.layers.core.Flatten at 0x7f1c7262d080>,\n",
       " <tensorflow.python.keras.layers.core.Dense at 0x7f1c75451da0>,\n",
       " <tensorflow.python.keras.layers.core.Dense at 0x7f1c72648d30>,\n",
       " <tensorflow.python.keras.layers.core.Dense at 0x7f1c72648c50>]"
      ]
     },
     "execution_count": 11,
     "metadata": {},
     "output_type": "execute_result"
    }
   ],
   "source": [
    "model.layers  #总计有4层"
   ]
  },
  {
   "cell_type": "code",
   "execution_count": 12,
   "metadata": {
    "scrolled": false
   },
   "outputs": [
    {
     "name": "stdout",
     "output_type": "stream",
     "text": [
      "Model: \"sequential\"\n",
      "_________________________________________________________________\n",
      "Layer (type)                 Output Shape              Param #   \n",
      "=================================================================\n",
      "flatten (Flatten)            (None, 784)               0         \n",
      "_________________________________________________________________\n",
      "dense (Dense)                (None, 300)               235500    \n",
      "_________________________________________________________________\n",
      "dense_1 (Dense)              (None, 100)               30100     \n",
      "_________________________________________________________________\n",
      "dense_2 (Dense)              (None, 10)                1010      \n",
      "=================================================================\n",
      "Total params: 266,610\n",
      "Trainable params: 266,610\n",
      "Non-trainable params: 0\n",
      "_________________________________________________________________\n"
     ]
    }
   ],
   "source": [
    "#可以来算一下参数个数\n",
    "model.summary()"
   ]
  },
  {
   "cell_type": "code",
   "execution_count": 13,
   "metadata": {},
   "outputs": [
    {
     "data": {
      "text/plain": [
       "235500"
      ]
     },
     "execution_count": 13,
     "metadata": {},
     "output_type": "execute_result"
    }
   ],
   "source": [
    "784*300+300"
   ]
  },
  {
   "cell_type": "code",
   "execution_count": 14,
   "metadata": {},
   "outputs": [
    {
     "data": {
      "text/plain": [
       "30100"
      ]
     },
     "execution_count": 14,
     "metadata": {},
     "output_type": "execute_result"
    }
   ],
   "source": [
    "300*100+100"
   ]
  },
  {
   "cell_type": "code",
   "execution_count": 15,
   "metadata": {},
   "outputs": [
    {
     "data": {
      "text/plain": [
       "[<tf.Variable 'dense/kernel:0' shape=(784, 300) dtype=float32, numpy=\n",
       " array([[ 0.00824615,  0.07051231, -0.0075653 , ...,  0.04003152,\n",
       "         -0.02760214,  0.0070138 ],\n",
       "        [-0.05714755,  0.01668896, -0.03217719, ..., -0.0329119 ,\n",
       "          0.04492825, -0.00843098],\n",
       "        [ 0.06001893,  0.00443411, -0.05286144, ..., -0.06507581,\n",
       "          0.02671981,  0.05663779],\n",
       "        ...,\n",
       "        [-0.01827043,  0.03521802,  0.02366927, ...,  0.03512657,\n",
       "         -0.00052784,  0.02231859],\n",
       "        [ 0.04055723,  0.06098349, -0.03545957, ..., -0.03573126,\n",
       "         -0.0704025 , -0.03489399],\n",
       "        [ 0.00588748, -0.05819041,  0.01174455, ..., -0.03658244,\n",
       "         -0.07259194,  0.05858169]], dtype=float32)>,\n",
       " <tf.Variable 'dense/bias:0' shape=(300,) dtype=float32, numpy=\n",
       " array([0., 0., 0., 0., 0., 0., 0., 0., 0., 0., 0., 0., 0., 0., 0., 0., 0.,\n",
       "        0., 0., 0., 0., 0., 0., 0., 0., 0., 0., 0., 0., 0., 0., 0., 0., 0.,\n",
       "        0., 0., 0., 0., 0., 0., 0., 0., 0., 0., 0., 0., 0., 0., 0., 0., 0.,\n",
       "        0., 0., 0., 0., 0., 0., 0., 0., 0., 0., 0., 0., 0., 0., 0., 0., 0.,\n",
       "        0., 0., 0., 0., 0., 0., 0., 0., 0., 0., 0., 0., 0., 0., 0., 0., 0.,\n",
       "        0., 0., 0., 0., 0., 0., 0., 0., 0., 0., 0., 0., 0., 0., 0., 0., 0.,\n",
       "        0., 0., 0., 0., 0., 0., 0., 0., 0., 0., 0., 0., 0., 0., 0., 0., 0.,\n",
       "        0., 0., 0., 0., 0., 0., 0., 0., 0., 0., 0., 0., 0., 0., 0., 0., 0.,\n",
       "        0., 0., 0., 0., 0., 0., 0., 0., 0., 0., 0., 0., 0., 0., 0., 0., 0.,\n",
       "        0., 0., 0., 0., 0., 0., 0., 0., 0., 0., 0., 0., 0., 0., 0., 0., 0.,\n",
       "        0., 0., 0., 0., 0., 0., 0., 0., 0., 0., 0., 0., 0., 0., 0., 0., 0.,\n",
       "        0., 0., 0., 0., 0., 0., 0., 0., 0., 0., 0., 0., 0., 0., 0., 0., 0.,\n",
       "        0., 0., 0., 0., 0., 0., 0., 0., 0., 0., 0., 0., 0., 0., 0., 0., 0.,\n",
       "        0., 0., 0., 0., 0., 0., 0., 0., 0., 0., 0., 0., 0., 0., 0., 0., 0.,\n",
       "        0., 0., 0., 0., 0., 0., 0., 0., 0., 0., 0., 0., 0., 0., 0., 0., 0.,\n",
       "        0., 0., 0., 0., 0., 0., 0., 0., 0., 0., 0., 0., 0., 0., 0., 0., 0.,\n",
       "        0., 0., 0., 0., 0., 0., 0., 0., 0., 0., 0., 0., 0., 0., 0., 0., 0.,\n",
       "        0., 0., 0., 0., 0., 0., 0., 0., 0., 0., 0.], dtype=float32)>,\n",
       " <tf.Variable 'dense_1/kernel:0' shape=(300, 100) dtype=float32, numpy=\n",
       " array([[-6.05061650e-05,  3.62320915e-02,  1.62567720e-02, ...,\n",
       "         -4.36205938e-02,  1.02339961e-01, -1.03140160e-01],\n",
       "        [-1.73824057e-02, -4.32163700e-02, -3.02820876e-02, ...,\n",
       "         -7.29050860e-02, -1.04923800e-01, -1.03971362e-02],\n",
       "        [-5.11031374e-02,  9.80954245e-02,  7.67543092e-02, ...,\n",
       "          4.79480252e-02, -3.74923721e-02, -1.06492981e-01],\n",
       "        ...,\n",
       "        [-5.80495745e-02, -1.35613903e-02, -4.18788865e-02, ...,\n",
       "         -1.89639777e-02,  2.64430791e-03, -1.64751858e-02],\n",
       "        [-1.03123397e-01, -1.94810554e-02, -6.38957769e-02, ...,\n",
       "          7.92798623e-02,  5.38974479e-02, -1.82369202e-02],\n",
       "        [ 3.91985103e-02, -3.60746756e-02, -1.08538926e-01, ...,\n",
       "         -4.26476970e-02, -1.01284981e-02,  3.77129242e-02]], dtype=float32)>,\n",
       " <tf.Variable 'dense_1/bias:0' shape=(100,) dtype=float32, numpy=\n",
       " array([0., 0., 0., 0., 0., 0., 0., 0., 0., 0., 0., 0., 0., 0., 0., 0., 0.,\n",
       "        0., 0., 0., 0., 0., 0., 0., 0., 0., 0., 0., 0., 0., 0., 0., 0., 0.,\n",
       "        0., 0., 0., 0., 0., 0., 0., 0., 0., 0., 0., 0., 0., 0., 0., 0., 0.,\n",
       "        0., 0., 0., 0., 0., 0., 0., 0., 0., 0., 0., 0., 0., 0., 0., 0., 0.,\n",
       "        0., 0., 0., 0., 0., 0., 0., 0., 0., 0., 0., 0., 0., 0., 0., 0., 0.,\n",
       "        0., 0., 0., 0., 0., 0., 0., 0., 0., 0., 0., 0., 0., 0., 0.],\n",
       "       dtype=float32)>,\n",
       " <tf.Variable 'dense_2/kernel:0' shape=(100, 10) dtype=float32, numpy=\n",
       " array([[ 0.12464714,  0.16676867,  0.00681861,  0.19030887,  0.03205523,\n",
       "          0.07454577,  0.03153828, -0.11620215,  0.11541769,  0.13704014],\n",
       "        [ 0.0736891 ,  0.01696151,  0.01564509, -0.0142201 ,  0.10970461,\n",
       "          0.01951718,  0.02938008, -0.03702091, -0.08902542,  0.07609031],\n",
       "        [ 0.17215535,  0.19328833,  0.0636133 , -0.21634966,  0.04812273,\n",
       "          0.22054979, -0.07863617, -0.04421654, -0.08287656, -0.02555224],\n",
       "        [-0.20702729, -0.14241299, -0.1140014 , -0.12005845,  0.13928041,\n",
       "          0.1607633 ,  0.22321415, -0.17667192, -0.19189233, -0.07492732],\n",
       "        [-0.03592473,  0.10722056, -0.20754892, -0.07453598,  0.09250492,\n",
       "          0.16754574, -0.06713682, -0.15751061, -0.17032751,  0.22578025],\n",
       "        [-0.10946233,  0.0282838 , -0.04114348,  0.16726053, -0.00553763,\n",
       "         -0.03808923, -0.07713135,  0.01704571, -0.09653428,  0.17306057],\n",
       "        [-0.10274623, -0.14277092, -0.17571592,  0.18735185, -0.16252404,\n",
       "          0.07959771, -0.21325016, -0.13688037,  0.0737645 ,  0.16181922],\n",
       "        [-0.10173509, -0.15718798, -0.21010058, -0.05535367,  0.18292436,\n",
       "          0.14577061,  0.20289019, -0.06141338, -0.12595718, -0.15514961],\n",
       "        [ 0.02187935, -0.01163922,  0.14079368,  0.00859822,  0.0034222 ,\n",
       "         -0.0497628 ,  0.12118724,  0.2124039 ,  0.15731516, -0.12642597],\n",
       "        [ 0.14288169, -0.01747921,  0.19625211,  0.09127584,  0.04364324,\n",
       "         -0.09315501, -0.08914135, -0.13333422, -0.19720143, -0.21052583],\n",
       "        [-0.12329382,  0.06299049, -0.05744983, -0.18335468,  0.13676417,\n",
       "         -0.13530889, -0.11719619,  0.10024241,  0.19086897,  0.18147656],\n",
       "        [ 0.07891792, -0.03105929,  0.13414535,  0.06412891, -0.03805926,\n",
       "          0.09495628, -0.15898418,  0.20404977, -0.18559846, -0.04658322],\n",
       "        [-0.1375773 , -0.21579051,  0.06630409, -0.18396   ,  0.04549295,\n",
       "         -0.03592758,  0.17366803,  0.21857518, -0.0062806 , -0.14387083],\n",
       "        [ 0.15842697,  0.10449177, -0.11683242,  0.13237259,  0.05433819,\n",
       "          0.22462305, -0.13849044, -0.22017072,  0.10334709,  0.02023044],\n",
       "        [-0.1605547 , -0.06600085, -0.19906117,  0.053572  , -0.01270832,\n",
       "         -0.22898148,  0.13592741,  0.12238631, -0.01049495,  0.15092096],\n",
       "        [ 0.03103882, -0.14434573, -0.11365266, -0.06925125, -0.17817402,\n",
       "         -0.05769797,  0.149145  ,  0.23217013, -0.17021698, -0.08593158],\n",
       "        [-0.00739399,  0.20323816,  0.09082988, -0.02580854,  0.20785323,\n",
       "         -0.11952522, -0.13876468,  0.01746082, -0.23344623, -0.13347682],\n",
       "        [-0.17622752, -0.02402553, -0.01954103, -0.16469644, -0.21353364,\n",
       "          0.04182062, -0.16701189,  0.01571563, -0.1821683 , -0.09877583],\n",
       "        [-0.05913201,  0.03671151, -0.01108278, -0.07134365, -0.03087288,\n",
       "         -0.2224978 , -0.11785541, -0.04091506, -0.2285598 ,  0.22467148],\n",
       "        [-0.20098779,  0.05131873,  0.05088437, -0.02742045,  0.0594534 ,\n",
       "         -0.15557876, -0.21244982,  0.1382739 , -0.17698899,  0.1768224 ],\n",
       "        [ 0.01792619,  0.22093013,  0.14899445, -0.18793133, -0.14137368,\n",
       "          0.10792559,  0.0350982 , -0.00410074,  0.15354228,  0.16359437],\n",
       "        [ 0.16945842, -0.19416434, -0.23015627,  0.15846696,  0.07449445,\n",
       "          0.2048746 , -0.03761114, -0.22171196, -0.05620483, -0.0266434 ],\n",
       "        [-0.20816383, -0.15390477, -0.1755737 ,  0.11867619,  0.07632557,\n",
       "          0.13870603,  0.20663077,  0.2045435 , -0.22444475, -0.03074086],\n",
       "        [ 0.10946545,  0.06847405,  0.21089685,  0.09548327, -0.11879506,\n",
       "          0.22086698,  0.09052762, -0.12839022, -0.05147582,  0.20183939],\n",
       "        [-0.20341483,  0.10324341,  0.03768724,  0.22420248, -0.04859397,\n",
       "         -0.13538507,  0.02210286, -0.06387767,  0.18631482, -0.03405769],\n",
       "        [-0.1628946 ,  0.14176029,  0.03673753, -0.09627129,  0.13835162,\n",
       "         -0.0690106 ,  0.17855316,  0.11043894, -0.1528787 , -0.0548342 ],\n",
       "        [-0.03590547, -0.07829489,  0.05992436,  0.04632851, -0.0476535 ,\n",
       "          0.18983898, -0.02804676,  0.01471056, -0.01497594,  0.14361796],\n",
       "        [-0.13308349,  0.12273744, -0.01783764,  0.22579116, -0.08601071,\n",
       "          0.14821807, -0.18885094,  0.05645573, -0.11339257,  0.02036402],\n",
       "        [ 0.04750642,  0.11943275,  0.09074914, -0.11331467,  0.14550579,\n",
       "         -0.00987257, -0.0510851 , -0.10605082, -0.09493864,  0.11321601],\n",
       "        [ 0.18884191,  0.00493889, -0.16743313, -0.01039538, -0.13162577,\n",
       "         -0.03058867,  0.10309196,  0.11466515,  0.06119281, -0.18299814],\n",
       "        [-0.22145203,  0.10736287,  0.16648334,  0.02417815,  0.099406  ,\n",
       "          0.20025828,  0.2265299 , -0.1821576 ,  0.01777333,  0.2008791 ],\n",
       "        [-0.03084074, -0.01393913,  0.01447892,  0.10495916, -0.09056422,\n",
       "         -0.04110751, -0.2066781 , -0.01873842,  0.18718994,  0.2111791 ],\n",
       "        [ 0.03672585,  0.1049239 ,  0.14138845,  0.10302314, -0.09663479,\n",
       "          0.03461653,  0.1225774 ,  0.16588077,  0.13012782, -0.09803554],\n",
       "        [-0.16719374, -0.05435511,  0.21716821, -0.10902249, -0.04513185,\n",
       "          0.09549022,  0.09839413, -0.06638634,  0.05640602,  0.06105155],\n",
       "        [ 0.19251451,  0.12909037,  0.18921143, -0.21335578, -0.11090623,\n",
       "         -0.00907069,  0.02574378, -0.03151301, -0.10005787,  0.22740021],\n",
       "        [ 0.02837884, -0.21342288,  0.06754321,  0.152569  ,  0.0558621 ,\n",
       "          0.22801551, -0.1249775 ,  0.22809714, -0.14818895,  0.06581536],\n",
       "        [ 0.11925322,  0.19407353, -0.17812346,  0.01430246, -0.10127681,\n",
       "         -0.01205422, -0.05767842,  0.01816055, -0.04226647, -0.13552278],\n",
       "        [-0.01453856,  0.12528655, -0.03160611,  0.02575672,  0.06517434,\n",
       "         -0.08906969, -0.01667844, -0.168325  ,  0.22422001, -0.00042301],\n",
       "        [ 0.10676995, -0.05987081, -0.1254386 ,  0.16463101,  0.0743126 ,\n",
       "          0.17285517, -0.22360723,  0.03217956, -0.15111034, -0.12891555],\n",
       "        [-0.05332421, -0.17572488, -0.11102901, -0.11668514,  0.05422875,\n",
       "         -0.18396534, -0.20197482,  0.15622544,  0.09100094,  0.01451795],\n",
       "        [ 0.11769015, -0.169641  , -0.06258845, -0.1499224 , -0.10303862,\n",
       "          0.06471726, -0.10523045,  0.17197716, -0.18998429, -0.04045178],\n",
       "        [ 0.04103076, -0.00283185, -0.2222038 , -0.05911002,  0.15547183,\n",
       "         -0.13923842, -0.11505809, -0.15534523, -0.00483648, -0.21986268],\n",
       "        [ 0.22613063, -0.05326083,  0.21748307,  0.16417098,  0.06375661,\n",
       "         -0.110929  ,  0.20860538,  0.15143791, -0.05435666,  0.07040834],\n",
       "        [ 0.10215431, -0.14087059,  0.02209383,  0.15137434, -0.13431725,\n",
       "         -0.21805055,  0.0400551 ,  0.12241527,  0.19551596,  0.13736019],\n",
       "        [-0.13998039,  0.12709188, -0.21203203,  0.00289805,  0.0108003 ,\n",
       "          0.20552832,  0.04577833, -0.07238613, -0.05235855,  0.14956403],\n",
       "        [ 0.05364734,  0.1478371 , -0.14215463, -0.08717376, -0.12444656,\n",
       "         -0.06252725,  0.17927977, -0.16911012,  0.07733059, -0.20357424],\n",
       "        [ 0.22968075,  0.06385535, -0.2282873 , -0.1605888 , -0.16754755,\n",
       "          0.13253275, -0.07390448,  0.01756963,  0.11295518, -0.14459208],\n",
       "        [ 0.15698636, -0.23222439,  0.20721036, -0.157585  ,  0.19850668,\n",
       "         -0.07777086, -0.1246943 ,  0.14768675,  0.01888794, -0.12076122],\n",
       "        [ 0.20578417, -0.03921741, -0.07025339,  0.05508092, -0.23105432,\n",
       "         -0.23350325, -0.00754616, -0.19399723,  0.10830575,  0.16828027],\n",
       "        [ 0.109707  ,  0.12782872,  0.22766498, -0.05541982, -0.02993746,\n",
       "          0.01872015,  0.21612325,  0.11720383, -0.17542776, -0.14832164],\n",
       "        [-0.01641256, -0.11991166,  0.09300229,  0.16761115,  0.21164176,\n",
       "          0.16817272, -0.21030521,  0.0859507 ,  0.14168122,  0.21570769],\n",
       "        [-0.00149263,  0.14456898,  0.07794353, -0.15717468, -0.06443271,\n",
       "          0.11389557, -0.10871986, -0.18197714,  0.1703949 ,  0.01437357],\n",
       "        [ 0.21508351,  0.01340853, -0.07753716, -0.09646702,  0.12766653,\n",
       "         -0.07717818, -0.16321367,  0.1670644 ,  0.22185874,  0.03687865],\n",
       "        [ 0.15598089, -0.12362998,  0.02087852,  0.14125791, -0.03133398,\n",
       "          0.05145249,  0.16118848,  0.04708451,  0.20313835, -0.10399759],\n",
       "        [-0.16118655,  0.23179546,  0.14011025,  0.16307986, -0.06152569,\n",
       "         -0.05127659,  0.10112691,  0.11434323,  0.20713425,  0.1386621 ],\n",
       "        [ 0.22304025,  0.04814646,  0.11138526, -0.08268484, -0.00643378,\n",
       "          0.02583283, -0.00584522,  0.2244089 , -0.12167268, -0.19542655],\n",
       "        [-0.03330113,  0.08244014, -0.11011671,  0.21367908, -0.16778871,\n",
       "         -0.02614185, -0.04804131,  0.08501762, -0.10628541,  0.12773785],\n",
       "        [ 0.1900307 , -0.08746548,  0.16654277,  0.22453946,  0.1447416 ,\n",
       "         -0.13178882,  0.21112391,  0.16161153,  0.07418942,  0.08671921],\n",
       "        [ 0.21278015,  0.01387288,  0.09504449, -0.12766853,  0.21544138,\n",
       "         -0.17420007,  0.14338282, -0.10407732,  0.14774695,  0.20182207],\n",
       "        [-0.13945284, -0.001462  ,  0.15992567, -0.21371421,  0.13804469,\n",
       "         -0.08351831, -0.06509867,  0.12284181, -0.17734224,  0.21659324],\n",
       "        [-0.17076796,  0.20055023,  0.19173357,  0.14882651, -0.07000537,\n",
       "          0.05809927, -0.02782854, -0.11938263,  0.06737137,  0.06423983],\n",
       "        [ 0.01820287, -0.13379273,  0.13142571,  0.05192551,  0.12557018,\n",
       "          0.21650341, -0.18721354, -0.18280686,  0.0942367 , -0.15756723],\n",
       "        [ 0.04404414, -0.0207372 , -0.14268912, -0.12403803,  0.09328732,\n",
       "          0.10073659,  0.03884608, -0.10464512,  0.0804086 ,  0.02316773],\n",
       "        [ 0.23223218, -0.15024258, -0.21750742,  0.02161404, -0.0872208 ,\n",
       "         -0.0687127 , -0.09770763,  0.19951344,  0.02700499, -0.0640206 ],\n",
       "        [ 0.1563083 , -0.11340047,  0.10713002,  0.09568441, -0.05822839,\n",
       "          0.07755822, -0.22306181, -0.10768293,  0.10818842,  0.19364917],\n",
       "        [-0.09205712,  0.2059862 ,  0.07089561, -0.16741002,  0.19834754,\n",
       "          0.10343179, -0.08088987,  0.22876605, -0.18388137,  0.060855  ],\n",
       "        [-0.00193703, -0.13435489, -0.04733549,  0.05322269, -0.03404772,\n",
       "          0.16909903,  0.22331962,  0.07518679, -0.01447976,  0.06995386],\n",
       "        [ 0.13368285, -0.14751692, -0.16545507,  0.05340406,  0.0192821 ,\n",
       "          0.08586511, -0.16123655, -0.09435959,  0.06411237,  0.18337238],\n",
       "        [-0.1034946 ,  0.11555228, -0.18047974,  0.17413732,  0.20466858,\n",
       "          0.2327052 ,  0.11981794,  0.08301896,  0.19534999,  0.16287017],\n",
       "        [ 0.18736392,  0.05806896,  0.11676583,  0.10366186,  0.20334655,\n",
       "          0.17797056,  0.11042479, -0.23027483, -0.01209314, -0.17397144],\n",
       "        [-0.21241787, -0.15921377,  0.16857514,  0.12368071, -0.17209136,\n",
       "         -0.10303539,  0.01607005, -0.15983   ,  0.21937847,  0.09243163],\n",
       "        [ 0.03361562, -0.16367383,  0.01328637,  0.05978906,  0.18369427,\n",
       "         -0.04640347,  0.00045882, -0.1428676 , -0.12345781,  0.02938867],\n",
       "        [ 0.00582168, -0.11784127, -0.08039813,  0.16064101,  0.08516422,\n",
       "         -0.11283062,  0.16053644,  0.22843736, -0.23012298,  0.18321452],\n",
       "        [-0.07396796, -0.099627  ,  0.10350841,  0.20022628, -0.1375738 ,\n",
       "         -0.20317005,  0.21128044, -0.05486043,  0.03033587, -0.18743086],\n",
       "        [-0.03367855,  0.1808303 ,  0.20959336,  0.23154604, -0.09648716,\n",
       "          0.13010114, -0.1341967 ,  0.05833846, -0.21813981,  0.15967655],\n",
       "        [ 0.18589246,  0.1766446 ,  0.10564357,  0.20033208,  0.06280777,\n",
       "          0.08750686, -0.15997283, -0.00728534, -0.16485247,  0.09013274],\n",
       "        [ 0.04508871,  0.08295208, -0.21150038,  0.14022338, -0.02328122,\n",
       "         -0.18631883, -0.10124019,  0.15462863,  0.12750521,  0.1454758 ],\n",
       "        [-0.18981102,  0.17358422, -0.1298162 ,  0.13463509,  0.15429726,\n",
       "         -0.01309772, -0.19737756, -0.17749888, -0.2191858 ,  0.09491017],\n",
       "        [-0.22980085, -0.06809802, -0.13007753,  0.10121068, -0.22973987,\n",
       "         -0.1472849 ,  0.2174699 ,  0.04423195,  0.20769477, -0.12339472],\n",
       "        [-0.20170742, -0.06847003, -0.14912425, -0.23063894, -0.18639249,\n",
       "          0.02585959, -0.11682986,  0.21039218, -0.00432804, -0.10892889],\n",
       "        [-0.08025414, -0.23142417, -0.12622595, -0.13316318, -0.19206521,\n",
       "         -0.159212  , -0.08249953, -0.21203132,  0.19665223, -0.07704687],\n",
       "        [ 0.1879515 ,  0.19130519, -0.20065849,  0.1580157 ,  0.11434591,\n",
       "         -0.06127205,  0.10518244, -0.10138918,  0.1587207 , -0.13978568],\n",
       "        [-0.06223002,  0.0624367 ,  0.222702  ,  0.1382764 ,  0.08465323,\n",
       "          0.06344062,  0.16877246,  0.01573233, -0.08680715, -0.12401825],\n",
       "        [ 0.05294546,  0.14861146,  0.01334494, -0.13217586,  0.05303806,\n",
       "         -0.19451675, -0.16387898,  0.14449352,  0.17934877, -0.20990759],\n",
       "        [-0.2093037 ,  0.2125538 ,  0.09958473, -0.06546618, -0.03070711,\n",
       "          0.04445615,  0.06042579,  0.00773086, -0.00565685, -0.14416333],\n",
       "        [ 0.0041218 , -0.06709005,  0.09714028,  0.18996108,  0.07433993,\n",
       "          0.17358255,  0.07107878, -0.16615254,  0.02703908, -0.16164565],\n",
       "        [ 0.16622916,  0.07385409,  0.21654156,  0.12186828, -0.09684025,\n",
       "         -0.0849043 , -0.02761823,  0.14442727, -0.01393662, -0.23293094],\n",
       "        [-0.19158006,  0.00838491,  0.17057618, -0.0446125 , -0.09097242,\n",
       "         -0.17036532,  0.12866637, -0.14901417,  0.1846528 , -0.16996524],\n",
       "        [ 0.05989844,  0.10198092,  0.02904677,  0.03406066, -0.00937951,\n",
       "         -0.10625178,  0.14259002,  0.20658594, -0.02338223,  0.0774278 ],\n",
       "        [ 0.10883528,  0.03693593, -0.20280215, -0.1543632 ,  0.10766411,\n",
       "         -0.05829103,  0.07589185, -0.04601781,  0.13262233,  0.0158148 ],\n",
       "        [ 0.03379455, -0.16472273,  0.22015947, -0.22952962, -0.18324241,\n",
       "         -0.07608663, -0.18506625, -0.21805172,  0.13888839,  0.23179144],\n",
       "        [-0.10876618,  0.00880793,  0.09667042, -0.10872492, -0.2302971 ,\n",
       "          0.15568176, -0.07578856,  0.14490506,  0.03979772,  0.10156298],\n",
       "        [ 0.23225734, -0.0339857 ,  0.02876356, -0.10246615,  0.22718671,\n",
       "          0.14731929, -0.13750175, -0.02559412,  0.19398788,  0.11890659],\n",
       "        [-0.14223102,  0.08246285, -0.16062164,  0.11063623, -0.08669433,\n",
       "          0.10710907,  0.09396771,  0.07901391,  0.13694507,  0.21058246],\n",
       "        [-0.09911612, -0.11861398, -0.04723248,  0.16211271, -0.12541561,\n",
       "          0.214082  ,  0.02828708,  0.04547095, -0.13941215, -0.01567443],\n",
       "        [-0.05285023,  0.00462589, -0.05982035, -0.11022707,  0.1655696 ,\n",
       "          0.09596369, -0.10111362, -0.04362102, -0.19591856, -0.11969785],\n",
       "        [-0.11990353,  0.10807261, -0.06783091, -0.20348555, -0.0632357 ,\n",
       "          0.0670048 ,  0.01983854,  0.07740113, -0.10382017,  0.14672539],\n",
       "        [ 0.20823136, -0.17049494,  0.21471521,  0.17197415, -0.20027027,\n",
       "          0.22970018,  0.13020992, -0.00812776,  0.20430657,  0.08820969],\n",
       "        [ 0.0936732 ,  0.1762557 ,  0.0701488 ,  0.11123168, -0.02272551,\n",
       "         -0.00215258, -0.12905909,  0.20543438,  0.00724848, -0.02154744],\n",
       "        [ 0.18076342,  0.10911748, -0.15963311, -0.1967322 , -0.23176238,\n",
       "          0.09754586,  0.00855479, -0.18117803,  0.0453822 , -0.04647319]],\n",
       "       dtype=float32)>,\n",
       " <tf.Variable 'dense_2/bias:0' shape=(10,) dtype=float32, numpy=array([0., 0., 0., 0., 0., 0., 0., 0., 0., 0.], dtype=float32)>]"
      ]
     },
     "execution_count": 15,
     "metadata": {},
     "output_type": "execute_result"
    }
   ],
   "source": [
    "model.variables  #模型中自己训练的参数"
   ]
  },
  {
   "cell_type": "code",
   "execution_count": 37,
   "metadata": {},
   "outputs": [
    {
     "data": {
      "text/plain": [
       "0.1414213562373095"
      ]
     },
     "execution_count": 37,
     "metadata": {},
     "output_type": "execute_result"
    }
   ],
   "source": [
    "#均匀分布\n",
    "np.sqrt(6/300)"
   ]
  },
  {
   "cell_type": "code",
   "execution_count": 43,
   "metadata": {},
   "outputs": [
    {
     "data": {
      "text/plain": [
       "0.12909032"
      ]
     },
     "execution_count": 43,
     "metadata": {},
     "output_type": "execute_result"
    }
   ],
   "source": [
    "model.variables[0].numpy().max()"
   ]
  },
  {
   "cell_type": "code",
   "execution_count": 40,
   "metadata": {},
   "outputs": [
    {
     "data": {
      "text/plain": [
       "0.2449489742783178"
      ]
     },
     "execution_count": 40,
     "metadata": {},
     "output_type": "execute_result"
    }
   ],
   "source": [
    "np.sqrt(6/100)"
   ]
  },
  {
   "cell_type": "code",
   "execution_count": 42,
   "metadata": {},
   "outputs": [
    {
     "data": {
      "text/plain": [
       "0.20266025"
      ]
     },
     "execution_count": 42,
     "metadata": {},
     "output_type": "execute_result"
    }
   ],
   "source": [
    "model.variables[2].numpy().max()"
   ]
  },
  {
   "cell_type": "code",
   "execution_count": 17,
   "metadata": {},
   "outputs": [
    {
     "data": {
      "text/plain": [
       "2750.0"
      ]
     },
     "execution_count": 17,
     "metadata": {},
     "output_type": "execute_result"
    }
   ],
   "source": [
    "55000/20"
   ]
  },
  {
   "cell_type": "code",
   "execution_count": 8,
   "metadata": {},
   "outputs": [],
   "source": [
    "# [None, 784] * W + b -> [None, 300] W.shape [784, 300], b = [300]\n",
    "#W是矩阵，b是一个偏置，是一个向量"
   ]
  },
  {
   "cell_type": "code",
   "execution_count": 16,
   "metadata": {},
   "outputs": [
    {
     "name": "stdout",
     "output_type": "stream",
     "text": [
      "Epoch 1/20\n",
      "1719/1719 [==============================] - 7s 4ms/step - loss: 2.2687 - accuracy: 0.7184 - val_loss: 0.6305 - val_accuracy: 0.7772\n",
      "Epoch 2/20\n",
      "1719/1719 [==============================] - 8s 5ms/step - loss: 0.5952 - accuracy: 0.7789 - val_loss: 0.5642 - val_accuracy: 0.7994\n",
      "Epoch 3/20\n",
      "1719/1719 [==============================] - 8s 5ms/step - loss: 0.5352 - accuracy: 0.7971 - val_loss: 0.5752 - val_accuracy: 0.7942\n",
      "Epoch 4/20\n",
      "1719/1719 [==============================] - 8s 5ms/step - loss: 0.4974 - accuracy: 0.8115 - val_loss: 0.5346 - val_accuracy: 0.8118\n",
      "Epoch 5/20\n",
      "1719/1719 [==============================] - 8s 4ms/step - loss: 0.4639 - accuracy: 0.8253 - val_loss: 0.4873 - val_accuracy: 0.8342\n",
      "Epoch 6/20\n",
      "1719/1719 [==============================] - 9s 5ms/step - loss: 0.4299 - accuracy: 0.8380 - val_loss: 0.4898 - val_accuracy: 0.8224\n",
      "Epoch 7/20\n",
      "1719/1719 [==============================] - 8s 5ms/step - loss: 0.4071 - accuracy: 0.8473 - val_loss: 0.4731 - val_accuracy: 0.8420\n",
      "Epoch 8/20\n",
      "1719/1719 [==============================] - 8s 4ms/step - loss: 0.3890 - accuracy: 0.8542 - val_loss: 0.4575 - val_accuracy: 0.8456\n",
      "Epoch 9/20\n",
      "1719/1719 [==============================] - 9s 5ms/step - loss: 0.3751 - accuracy: 0.8587 - val_loss: 0.4484 - val_accuracy: 0.8462\n",
      "Epoch 10/20\n",
      "1719/1719 [==============================] - 6s 4ms/step - loss: 0.3625 - accuracy: 0.8638 - val_loss: 0.4389 - val_accuracy: 0.8504\n",
      "Epoch 11/20\n",
      "1719/1719 [==============================] - 9s 5ms/step - loss: 0.3524 - accuracy: 0.8671 - val_loss: 0.4394 - val_accuracy: 0.8562\n",
      "Epoch 12/20\n",
      "1719/1719 [==============================] - 9s 5ms/step - loss: 0.3419 - accuracy: 0.8712 - val_loss: 0.4322 - val_accuracy: 0.8500\n",
      "Epoch 13/20\n",
      "1719/1719 [==============================] - 9s 5ms/step - loss: 0.3358 - accuracy: 0.8725 - val_loss: 0.4352 - val_accuracy: 0.8514\n",
      "Epoch 14/20\n",
      "1719/1719 [==============================] - 9s 5ms/step - loss: 0.3296 - accuracy: 0.8744 - val_loss: 0.4273 - val_accuracy: 0.8534\n",
      "Epoch 15/20\n",
      "1719/1719 [==============================] - 9s 5ms/step - loss: 0.3225 - accuracy: 0.8784 - val_loss: 0.4377 - val_accuracy: 0.8554\n",
      "Epoch 16/20\n",
      "1719/1719 [==============================] - 8s 4ms/step - loss: 0.3164 - accuracy: 0.8799 - val_loss: 0.4339 - val_accuracy: 0.8568\n",
      "Epoch 17/20\n",
      "1719/1719 [==============================] - 8s 5ms/step - loss: 0.3111 - accuracy: 0.8814 - val_loss: 0.4111 - val_accuracy: 0.8590\n",
      "Epoch 18/20\n",
      "1719/1719 [==============================] - 8s 5ms/step - loss: 0.3054 - accuracy: 0.8843 - val_loss: 0.4336 - val_accuracy: 0.8532\n",
      "Epoch 19/20\n",
      "1719/1719 [==============================] - 9s 5ms/step - loss: 0.3000 - accuracy: 0.8870 - val_loss: 0.4103 - val_accuracy: 0.8596\n",
      "Epoch 20/20\n",
      "1719/1719 [==============================] - 8s 5ms/step - loss: 0.2962 - accuracy: 0.8886 - val_loss: 0.4233 - val_accuracy: 0.8592\n"
     ]
    }
   ],
   "source": [
    "history = model.fit(x_train, y_train, epochs=20,\n",
    "                    validation_data=(x_valid, y_valid))  "
   ]
  },
  {
   "cell_type": "code",
   "execution_count": 10,
   "metadata": {},
   "outputs": [
    {
     "data": {
      "text/plain": [
       "tensorflow.python.keras.callbacks.History"
      ]
     },
     "execution_count": 10,
     "metadata": {},
     "output_type": "execute_result"
    }
   ],
   "source": [
    "type(history)"
   ]
  },
  {
   "cell_type": "code",
   "execution_count": 11,
   "metadata": {},
   "outputs": [
    {
     "data": {
      "text/plain": [
       "{'loss': [2.0217154026031494,\n",
       "  0.5904763340950012,\n",
       "  0.519915759563446,\n",
       "  0.47739025950431824,\n",
       "  0.44535624980926514,\n",
       "  0.42013484239578247,\n",
       "  0.40235233306884766,\n",
       "  0.3857731223106384,\n",
       "  0.37339335680007935,\n",
       "  0.36288654804229736,\n",
       "  0.35216057300567627,\n",
       "  0.3456742465496063,\n",
       "  0.3361222743988037,\n",
       "  0.33027195930480957,\n",
       "  0.32318446040153503,\n",
       "  0.3177378177642822,\n",
       "  0.31097596883773804,\n",
       "  0.30599266290664673,\n",
       "  0.3006281852722168,\n",
       "  0.29516538977622986],\n",
       " 'accuracy': [0.7130545377731323,\n",
       "  0.7853636145591736,\n",
       "  0.809145450592041,\n",
       "  0.8227272629737854,\n",
       "  0.836509108543396,\n",
       "  0.8455818295478821,\n",
       "  0.8524545431137085,\n",
       "  0.857909083366394,\n",
       "  0.8622182011604309,\n",
       "  0.8656363487243652,\n",
       "  0.8703818321228027,\n",
       "  0.8715636134147644,\n",
       "  0.8750908970832825,\n",
       "  0.8767091035842896,\n",
       "  0.8809818029403687,\n",
       "  0.8819817900657654,\n",
       "  0.8842545747756958,\n",
       "  0.8873090744018555,\n",
       "  0.8893454670906067,\n",
       "  0.8910363912582397],\n",
       " 'val_loss': [0.6178706288337708,\n",
       "  0.5341334342956543,\n",
       "  0.49793902039527893,\n",
       "  0.47861552238464355,\n",
       "  0.4803386628627777,\n",
       "  0.44018006324768066,\n",
       "  0.4309840202331543,\n",
       "  0.4512527287006378,\n",
       "  0.4195927381515503,\n",
       "  0.4044894576072693,\n",
       "  0.40994545817375183,\n",
       "  0.4093642234802246,\n",
       "  0.41216176748275757,\n",
       "  0.40281763672828674,\n",
       "  0.4024519920349121,\n",
       "  0.4087378978729248,\n",
       "  0.3883679211139679,\n",
       "  0.4038655161857605,\n",
       "  0.4072044789791107,\n",
       "  0.4001788794994354],\n",
       " 'val_accuracy': [0.7802000045776367,\n",
       "  0.8082000017166138,\n",
       "  0.8226000070571899,\n",
       "  0.8357999920845032,\n",
       "  0.8307999968528748,\n",
       "  0.8479999899864197,\n",
       "  0.8543999791145325,\n",
       "  0.8479999899864197,\n",
       "  0.8575999736785889,\n",
       "  0.8632000088691711,\n",
       "  0.8641999959945679,\n",
       "  0.8669999837875366,\n",
       "  0.8641999959945679,\n",
       "  0.8611999750137329,\n",
       "  0.8664000034332275,\n",
       "  0.8644000291824341,\n",
       "  0.8709999918937683,\n",
       "  0.868399977684021,\n",
       "  0.8633999824523926,\n",
       "  0.871399998664856]}"
      ]
     },
     "execution_count": 11,
     "metadata": {},
     "output_type": "execute_result"
    }
   ],
   "source": [
    "#十次历史的信息\n",
    "history.history"
   ]
  },
  {
   "cell_type": "code",
   "execution_count": 12,
   "metadata": {},
   "outputs": [
    {
     "data": {
      "image/png": "[encoded data removed]",
      "text/plain": [
       "<Figure size 576x360 with 1 Axes>"
      ]
     },
     "metadata": {
      "needs_background": "light"
     },
     "output_type": "display_data"
    }
   ],
   "source": [
    "#画线要注意的是损失是不一定在零到1之间的\n",
    "def plot_learning_curves(history):\n",
    "    pd.DataFrame(history.history).plot(figsize=(8, 5))  #使用df中的折线图绘制\n",
    "    plt.grid(True)\n",
    "    plt.gca().set_ylim(0, 1)  #纵坐标的刻度范围\n",
    "    plt.show()\n",
    "\n",
    "plot_learning_curves(history)  #横坐标是epochs"
   ]
  },
  {
   "cell_type": "code",
   "execution_count": 29,
   "metadata": {},
   "outputs": [
    {
     "data": {
      "text/plain": [
       "0.07745966692414834"
      ]
     },
     "execution_count": 29,
     "metadata": {},
     "output_type": "execute_result"
    }
   ],
   "source": []
  },
  {
   "cell_type": "code",
   "execution_count": 13,
   "metadata": {},
   "outputs": [
    {
     "data": {
      "text/plain": [
       "[0.4610079526901245, 0.8500000238418579]"
      ]
     },
     "execution_count": 13,
     "metadata": {},
     "output_type": "execute_result"
    }
   ],
   "source": [
    "#在测试集上评估，一个是测试集的损失，一个是测试集的准确率\n",
    "model.evaluate(x_test, y_test, verbose=0)"
   ]
  },
  {
   "cell_type": "code",
   "execution_count": 14,
   "metadata": {},
   "outputs": [
    {
     "name": "stdout",
     "output_type": "stream",
     "text": [
      "Loss:  0.09458992\n"
     ]
    }
   ],
   "source": [
    "#计算标签和预测之间的crossentropy(交叉熵)损失\n",
    "cce = keras.losses.SparseCategoricalCrossentropy()\n",
    "loss = cce(\n",
    "  [0, 1, 2],\n",
    "  [[.9, .05, .05], [.05, .89, .06], [.05, .01, .94]])\n",
    "print('Loss: ', loss.numpy())  "
   ]
  },
  {
   "cell_type": "code",
   "execution_count": 2,
   "metadata": {},
   "outputs": [
    {
     "data": {
      "text/plain": [
       "0.9999999999999999"
      ]
     },
     "execution_count": 2,
     "metadata": {},
     "output_type": "execute_result"
    }
   ],
   "source": [
    "#softmax计算\n",
    "import numpy as np\n",
    "z = np.array([1.0, 2.0, 3.0, 4.0, 1.0, 2.0, 3.0])\n",
    "m=np.exp(z)/sum(np.exp(z))\n",
    "sum(m)"
   ]
  }
 ],
 "metadata": {
  "kernelspec": {
   "display_name": "Python 3",
   "language": "python",
   "name": "python3"
  },
  "language_info": {
   "codemirror_mode": {
    "name": "ipython",
    "version": 3
   },
   "file_extension": ".py",
   "mimetype": "text/x-python",
   "name": "python",
   "nbconvert_exporter": "python",
   "pygments_lexer": "ipython3",
   "version": "3.6.9"
  }
 },
 "nbformat": 4,
 "nbformat_minor": 2
}

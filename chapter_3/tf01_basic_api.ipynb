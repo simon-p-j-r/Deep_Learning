{
 "cells": [
  {
   "cell_type": "code",
   "execution_count": 5,
   "metadata": {},
   "outputs": [
    {
     "name": "stdout",
     "output_type": "stream",
     "text": [
      "2.2.0\n",
      "sys.version_info(major=3, minor=6, micro=9, releaselevel='final', serial=0)\n",
      "matplotlib 3.3.4\n",
      "numpy 1.19.5\n",
      "pandas 1.1.5\n",
      "sklearn 0.24.2\n",
      "tensorflow 2.2.0\n",
      "tensorflow.keras 2.3.0-tf\n"
     ]
    }
   ],
   "source": [
    "import matplotlib as mpl\n",
    "import matplotlib.pyplot as plt\n",
    "%matplotlib inline\n",
    "import numpy as np\n",
    "import sklearn\n",
    "import pandas as pd\n",
    "import os\n",
    "import sys\n",
    "import time\n",
    "import tensorflow as tf\n",
    "\n",
    "from tensorflow import keras\n",
    "\n",
    "print(tf.__version__)\n",
    "print(sys.version_info)\n",
    "for module in mpl, np, pd, sklearn, tf, keras:\n",
    "    print(module.__name__, module.__version__)"
   ]
  },
  {
   "cell_type": "markdown",
   "metadata": {
    "pycharm": {
     "name": "#%% md\n"
    }
   },
   "source": [
    "# constant是常量张量"
   ]
  },
  {
   "cell_type": "code",
   "execution_count": null,
   "outputs": [],
   "source": [
    "# constant是常量张量,类似于tuple不可变\n",
    "t = tf.constant([[1., 2., 3.], [4., 5., 6.]])\n",
    "\n",
    "# index\n",
    "#2.0能够直接获取值时因为execution默认打开的\n",
    "print(t)\n",
    "print('-' * 50)\n",
    "print(t[:, 1:])\n",
    "print('-' * 50)\n",
    "# 这里的'...'和':'一样功能\n",
    "print(t[..., 1])\n",
    "# t.assign(1)对常量不能进行再次assign设置\n",
    "print('-' * 50)\n",
    "#转为ndarray\n",
    "type(t.numpy())\n",
    "q = t.numpy()"
   ],
   "metadata": {
    "collapsed": false,
    "pycharm": {
     "name": "#%%\n"
    }
   }
  },
  {
   "cell_type": "code",
   "execution_count": null,
   "metadata": {},
   "outputs": [],
   "source": [
    "t1 = tf.constant(q)  #把ndarray变为张量\n",
    "t1"
   ]
  },
  {
   "cell_type": "code",
   "execution_count": null,
   "metadata": {},
   "outputs": [],
   "source": [
    "# ops 使用tf本身的math接口对Tensor进行计算\n",
    "print(t + 10)\n",
    "print('-' * 50)\n",
    "print(t)\n",
    "print('-' * 50)\n",
    "print(tf.square(t))\n",
    "print('-' * 50)\n",
    "print(t)\n",
    "#矩阵乘以自己的转置\n",
    "print('-' * 50)\n",
    "# transpose是矩阵的转置\n",
    "print(tf.transpose(t))\n",
    "print('-' * 50)\n",
    "# @是矩阵乘法（线代里的矩阵乘法），和*不一致\n",
    "print(t @ tf.transpose(t))"
   ]
  },
  {
   "cell_type": "code",
   "execution_count": null,
   "metadata": {},
   "outputs": [],
   "source": [
    "print(tf.sqrt(t))\n",
    "print('-' * 50)\n",
    "# tf.math.sqrt(t)\n",
    "tf.math.log(t)  #必须加math"
   ]
  },
  {
   "cell_type": "markdown",
   "metadata": {
    "pycharm": {
     "name": "#%% md\n"
    }
   },
   "source": [
    "## numpy conversion"
   ]
  },
  {
   "cell_type": "code",
   "execution_count": null,
   "outputs": [],
   "source": [
    "print(t.numpy())  #可以直接通过numpy取出来\n",
    "print(t.numpy().tolist())\n",
    "print(type(t.numpy()))\n",
    "print(np.square(t))  #直接求平方\n",
    "np_t = np.array([[1., 2., 3.], [4., 5., 6.]])\n",
    "print(tf.constant(np_t))  #转换为tensor"
   ],
   "metadata": {
    "collapsed": false,
    "pycharm": {
     "name": "#%%\n"
    }
   }
  },
  {
   "cell_type": "markdown",
   "metadata": {
    "pycharm": {
     "name": "#%% md\n"
    }
   },
   "source": [
    "## Scalars  就是标量，只有一个数值的张量，称为标量"
   ]
  },
  {
   "cell_type": "code",
   "execution_count": null,
   "outputs": [],
   "source": [
    "t = tf.constant(2.718)\n",
    "print(t)\n",
    "print(t.numpy())\n",
    "print(t.shape)  #维数"
   ],
   "metadata": {
    "collapsed": false,
    "pycharm": {
     "name": "#%%\n"
    }
   }
  },
  {
   "cell_type": "code",
   "execution_count": null,
   "metadata": {},
   "outputs": [],
   "source": [
    "# strings\n",
    "t = tf.constant(\"cafe\")\n",
    "print(t)\n",
    "print(tf.strings.length(t))\n",
    "print(tf.strings.length(t, unit=\"UTF8_CHAR\"))\n",
    "print(tf.strings.unicode_decode(t, \"UTF8\"))"
   ]
  },
  {
   "cell_type": "markdown",
   "metadata": {
    "pycharm": {
     "name": "#%% md\n"
    }
   },
   "source": [
    "## string array"
   ]
  },
  {
   "cell_type": "code",
   "execution_count": null,
   "outputs": [],
   "source": [
    "t = tf.constant([\"cafe\", \"coffee\", \"咖啡\"])\n",
    "#自动求出数组中每一个字符的长度,如果不加unit=\"UTF8_CHAR\"，得到的是实际字节存储的长度(即一个汉字3B)\n",
    "print(tf.strings.length(t, unit=\"UTF8_CHAR\"))\n",
    "print(tf.strings.length(t, unit=\"BYTE\"))\n",
    "r = tf.strings.unicode_decode(t, \"UTF8\")\n",
    "# https://tool.chinaz.com/tools/unicode.aspx  汉字转的是unicode编码\n",
    "print(r)\n",
    "# RaggedTensor 是指形状分布不固定的（行元素个数不相等）\n",
    "# Tensor，2.0新增"
   ],
   "metadata": {
    "collapsed": false,
    "pycharm": {
     "name": "#%%\n"
    }
   }
  },
  {
   "cell_type": "markdown",
   "metadata": {
    "pycharm": {
     "name": "#%% md\n"
    }
   },
   "source": [
    "# ragged tensor：每一行的元素个数不相等，Numpy和NDArray是不可以这样的"
   ]
  },
  {
   "cell_type": "code",
   "execution_count": null,
   "outputs": [],
   "source": [
    "r = tf.ragged.constant([[11, 12], [21, 22, 23], [], [41]])\n",
    "\n",
    "# index op\n",
    "print(r)\n",
    "print('-' * 50)\n",
    "print(r.shape)\n",
    "print('-' * 50)\n",
    "# 取一行是tensor\n",
    "print(r[1])\n",
    "#取一行也是ragged tensor\n",
    "print('-' * 50)\n",
    "print(r[1:3])\n",
    "# print(r[:,1])#不能取列索引，只能取行索引，之前shape的列变量都是None"
   ],
   "metadata": {
    "collapsed": false,
    "pycharm": {
     "name": "#%%\n"
    }
   }
  },
  {
   "cell_type": "code",
   "execution_count": null,
   "metadata": {},
   "outputs": [],
   "source": [
    "# ops on ragged tensor\n",
    "r2 = tf.ragged.constant([[51, 52], [], [], [71]])\n",
    "print(tf.concat([r, r2], axis=0))\n",
    "print(tf.concat([r, r2], axis=1))  #行数不相等，不可以拼\n",
    "#是否可以把上面的axis改为1"
   ]
  },
  {
   "cell_type": "code",
   "execution_count": null,
   "metadata": {},
   "outputs": [],
   "source": [
    "#按轴1进行合并时，行数要一致，行数相等，可以拼\n",
    "r3 = tf.ragged.constant([[13, 14], [15], [41], [42, 43]])\n",
    "print(tf.concat([r, r3], axis=1))"
   ]
  },
  {
   "cell_type": "code",
   "execution_count": null,
   "metadata": {},
   "outputs": [],
   "source": [
    "print(r.to_tensor())  #各种深度学习模型必须输入一个tensor\n",
    "#空闲的补0，只能往后面补"
   ]
  },
  {
   "cell_type": "markdown",
   "metadata": {
    "pycharm": {
     "name": "#%% md\n"
    }
   },
   "source": [
    "# sparse tensor 可以往前面补零,sparse tensor从第一行依次往下填位置"
   ]
  },
  {
   "cell_type": "code",
   "execution_count": null,
   "outputs": [],
   "source": [
    "# sparese tensor存储节省内存空间，磁盘空间\n",
    "s = tf.SparseTensor(indices=[[0, 1], [1, 0], [2, 3], [3, 2]],  #位置，和下面的value配合，在相应的位置赋相对应的值\n",
    "                    values=[1., 2., 3., 5],  #值\n",
    "                    dense_shape=[4, 4])  #维数\n",
    "print(s)\n",
    "tt = tf.sparse.to_dense(s)\n",
    "tt"
   ],
   "metadata": {
    "collapsed": false,
    "pycharm": {
     "name": "#%%\n"
    }
   }
  },
  {
   "cell_type": "code",
   "execution_count": null,
   "metadata": {
    "scrolled": true
   },
   "outputs": [],
   "source": [
    "# ops on sparse tensors\n",
    "# 可以看到位置没变，value变了\n",
    "s2 = s * 2.0\n",
    "print(s2)\n",
    "\n",
    "#不支持加法\n",
    "try:\n",
    "    s3 = s + 1\n",
    "except TypeError as ex:\n",
    "    print(ex)\n",
    "\n",
    "s4 = tf.constant([[10., 20.],\n",
    "                  [30., 40.],\n",
    "                  [50., 60.],\n",
    "                  [70., 80.]])\n",
    "# tf.sparse.to_dense(s)@s4，和下面代码等价\n",
    "#稀疏Tensor和Tensor相乘，会自动将s变为sparse.to_dense(s)再相乘\n",
    "print(tf.sparse.sparse_dense_matmul(s, s4))"
   ]
  },
  {
   "cell_type": "code",
   "execution_count": null,
   "metadata": {
    "scrolled": true
   },
   "outputs": [],
   "source": [
    "# sparse tensor\n",
    "s5 = tf.SparseTensor(indices=[[0, 2], [2, 3], [0, 1]],\n",
    "                     values=[1., 2., 3.],\n",
    "                     dense_shape=[3, 4])\n",
    "# print(tf.sparse.to_dense(s5))\n",
    "# #sparse无顺序时，不能转为tensor，会报错\n",
    "# (是索引顺序，这个例子中的indices的顺序，因为to_dense是一行一行的变）\n",
    "print(s5)\n",
    "# 没有顺序的st必须进行reorder以后才能to_dense\n",
    "s6 = tf.sparse.reorder(s5)\n",
    "print(s6)\n",
    "print(tf.sparse.to_dense(s6))"
   ]
  },
  {
   "cell_type": "markdown",
   "metadata": {
    "pycharm": {
     "name": "#%% md\n"
    }
   },
   "source": [
    "# Variables"
   ]
  },
  {
   "cell_type": "code",
   "execution_count": null,
   "outputs": [],
   "source": [
    "# Variables，可以变\n",
    "v = tf.Variable([[1., 2., 3.], [4., 5., 6.]])\n",
    "print(v)\n",
    "print(v.value())\n",
    "print('-' * 50)\n",
    "print(v.numpy())"
   ],
   "metadata": {
    "collapsed": false,
    "pycharm": {
     "name": "#%%\n"
    }
   }
  },
  {
   "cell_type": "code",
   "execution_count": null,
   "metadata": {},
   "outputs": [],
   "source": [
    "# 修改变量时要用assign，改变tensor内某个值，空间没有发生变化，效率高\n",
    "# assign value\n",
    "print(id(v))\n",
    "v.assign(2 * v)  # 矩阵乘一个数\n",
    "print(id(v))\n",
    "print(v.numpy())\n",
    "print('-' * 50)\n",
    "v[0, 1].assign(42)  #取某个元素修改\n",
    "print(v.numpy())\n",
    "print('-' * 50)\n",
    "v[1].assign([7., 8., 9.])  #取某一行修改\n",
    "print(v.numpy())\n",
    "print(id(v))"
   ]
  },
  {
   "cell_type": "code",
   "execution_count": null,
   "metadata": {},
   "outputs": [],
   "source": [
    "try:\n",
    "    v[1] = [7., 8., 9.]\n",
    "except TypeError as ex:\n",
    "    print(ex)"
   ]
  },
  {
   "cell_type": "code",
   "execution_count": null,
   "metadata": {},
   "outputs": [],
   "source": [
    "# 没有用assign\n",
    "v = 2 * v\n",
    "print(v)\n",
    "print(id(v))\n",
    "print(type(v))"
   ]
  },
  {
   "cell_type": "code",
   "execution_count": null,
   "metadata": {},
   "outputs": [],
   "source": [
    "x = tf.constant([[1., 1.], [2., 2.]])\n",
    "tf.reduce_mean(x, axis=1)"
   ]
  }
 ],
 "metadata": {
  "kernelspec": {
   "display_name": "Python 3",
   "language": "python",
   "name": "python3"
  },
  "language_info": {
   "codemirror_mode": {
    "name": "ipython",
    "version": 3
   },
   "file_extension": ".py",
   "mimetype": "text/x-python",
   "name": "python",
   "nbconvert_exporter": "python",
   "pygments_lexer": "ipython3",
   "version": "3.6.9"
  }
 },
 "nbformat": 4,
 "nbformat_minor": 2
}
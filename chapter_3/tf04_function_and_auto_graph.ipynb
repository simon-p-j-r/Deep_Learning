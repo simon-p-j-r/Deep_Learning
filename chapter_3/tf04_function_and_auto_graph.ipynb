{
 "cells": [
  {
   "cell_type": "code",
   "execution_count": 3,
   "metadata": {},
   "outputs": [
    {
     "name": "stdout",
     "output_type": "stream",
     "text": [
      "2.2.0\n",
      "sys.version_info(major=3, minor=6, micro=9, releaselevel='final', serial=0)\n",
      "matplotlib 3.3.4\n",
      "numpy 1.19.5\n",
      "pandas 1.1.5\n",
      "sklearn 0.24.2\n",
      "tensorflow 2.2.0\n",
      "tensorflow.keras 2.3.0-tf\n"
     ]
    }
   ],
   "source": [
    "import matplotlib as mpl\n",
    "import matplotlib.pyplot as plt\n",
    "%matplotlib inline\n",
    "import numpy as np\n",
    "import sklearn\n",
    "import pandas as pd\n",
    "import os\n",
    "import sys\n",
    "import time\n",
    "import tensorflow as tf\n",
    "\n",
    "from tensorflow import keras\n",
    "\n",
    "print(tf.__version__)\n",
    "print(sys.version_info)\n",
    "for module in mpl, np, pd, sklearn, tf, keras:\n",
    "    print(module.__name__, module.__version__)"
   ]
  },
  {
   "cell_type": "markdown",
   "source": [
    "# 把py的函数变为图是为了提升效率\n",
    "Python 本身函数的执行效率不高，\n",
    "如果 python 函数能够像 tf 的库函数来使用是不是很好，因此 tf 针对编译器和各种设备做了各种优化"
   ],
   "metadata": {
    "collapsed": false,
    "pycharm": {
     "name": "#%% md\n"
    }
   }
  },
  {
   "cell_type": "code",
   "execution_count": 4,
   "metadata": {},
   "outputs": [
    {
     "name": "stdout",
     "output_type": "stream",
     "text": [
      "tf.Tensor(-0.95021296, shape=(), dtype=float32)\n",
      "tf.Tensor([-0.95021296 -0.917915  ], shape=(2,), dtype=float32)\n",
      "tf.Tensor(-0.95021296, shape=(), dtype=float32)\n",
      "tf.Tensor([-0.95021296 -0.917915  ], shape=(2,), dtype=float32)\n",
      "True\n",
      "<function scaled_elu at 0x7f34e67f2d08>\n",
      "<function scaled_elu at 0x7f34e67f2d08>\n",
      "<tensorflow.python.eager.def_function.Function object at 0x7f353b4efba8>\n"
     ]
    }
   ],
   "source": [
    "# tf.function and auto-graph.\n",
    "#自己实现一下selu激活函数,如果scale不为1，那就是selu\n",
    "def scaled_elu(z, scale=1.0, alpha=1.0):\n",
    "    # z >= 0 ? scale * z : scale * alpha * tf.nn.elu(z)\n",
    "    # 是不是大于等于0\n",
    "    is_positive = tf.greater_equal(z, 0.0)\n",
    "#     return scale * tf.where(is_positive, z, alpha * tf.nn.elu(z))\n",
    "    return scale * tf.where(is_positive, z, alpha * (tf.math.exp(z)-1))\n",
    "\n",
    "#运行一下，这还是py函数\n",
    "print(scaled_elu(tf.constant(-3.)))\n",
    "print(scaled_elu(tf.constant([-3., -2.5])))\n",
    "\n",
    "#把py实现的函数变为图实现的函数\n",
    "#scaled_elu_tf就是图\n",
    "scaled_elu_tf = tf.function(scaled_elu)\n",
    "print(scaled_elu_tf(tf.constant(-3.)))\n",
    "print(scaled_elu_tf(tf.constant([-3., -2.5])))\n",
    "\n",
    "#可以通过这种方式（python_function）找回原来的py函数\n",
    "# is是判断，查一下字符串判断is和==的区别\n",
    "print(scaled_elu_tf.python_function is scaled_elu)\n",
    "print(scaled_elu_tf.python_function)\n",
    "print(scaled_elu)\n",
    "print(scaled_elu_tf)#tf的函数的执行效率比较高"
   ]
  },
  {
   "cell_type": "code",
   "execution_count": null,
   "metadata": {
    "pycharm": {
     "is_executing": true
    }
   },
   "outputs": [],
   "source": [
    "#我们来测试一下性能，100万个数\n",
    "%timeit scaled_elu(tf.random.normal((10000, 10000)))\n",
    "%timeit scaled_elu_tf(tf.random.normal((10000, 10000)))"
   ]
  },
  {
   "cell_type": "code",
   "execution_count": null,
   "metadata": {
    "pycharm": {
     "is_executing": true
    }
   },
   "outputs": [],
   "source": [
    "# 1 + 1/2 + 1/2^2 + ... + 1/2^n\n",
    "#加了@tf.function装饰后就变为图结果，但是输入类型上不会有变化\n",
    "@tf.function\n",
    "def converge_to_2(n_iters):\n",
    "    total = tf.constant(0.)\n",
    "    increment = tf.constant(1.)\n",
    "    for _ in range(n_iters):\n",
    "        total += increment\n",
    "        increment /= 2.0\n",
    "    return total\n",
    "print(converge_to_2)\n",
    "print(converge_to_2(20))"
   ]
  },
  {
   "cell_type": "code",
   "execution_count": null,
   "metadata": {
    "pycharm": {
     "is_executing": true
    }
   },
   "outputs": [],
   "source": [
    "#如何看tf的图的代码\n",
    "def display_tf_code(func):\n",
    "    code = tf.autograph.to_code(func)\n",
    "    from IPython.display import display, Markdown\n",
    "    display(Markdown('```python\\n{}\\n```'.format(code)))"
   ]
  },
  {
   "cell_type": "code",
   "execution_count": null,
   "metadata": {
    "pycharm": {
     "is_executing": true
    }
   },
   "outputs": [],
   "source": [
    "#传普通py函数,返回的是tf图的代码\n",
    "display_tf_code(scaled_elu)"
   ]
  },
  {
   "cell_type": "code",
   "execution_count": null,
   "metadata": {
    "pycharm": {
     "is_executing": true
    }
   },
   "outputs": [],
   "source": [
    "#这个的前提是去除converge_to_2的装饰\n",
    "# 因为converge_to_2有@tf.function标注，去掉应该就没问题了。to_code函数的输入是module,\n",
    "# class, method, function, traceback, frame, or code object。不能是tf function.\n",
    "# 传入display_tf_code的必须是python代码，已经是图的传进去会报错\n",
    "display_tf_code(converge_to_2.python_function)"
   ]
  },
  {
   "cell_type": "code",
   "execution_count": null,
   "metadata": {
    "pycharm": {
     "is_executing": true
    }
   },
   "outputs": [],
   "source": [
    "#tf要把变量定义在函数外面，不能放里边\n",
    "var = tf.Variable(0.)\n",
    "\n",
    "@tf.function\n",
    "def add_21():\n",
    "    return var.assign_add(21) # += \n",
    "\n",
    "print(add_21())"
   ]
  },
  {
   "cell_type": "code",
   "execution_count": null,
   "metadata": {
    "pycharm": {
     "is_executing": true
    }
   },
   "outputs": [],
   "source": [
    "#cube计算立方，py是泛型设计，我们通过input_signature加类型限制可以防止调错\n",
    "# 这里就设置必须传入整形\n",
    "# @tf.function(input_signature=[tf.TensorSpec([None], tf.int32, name='x')])\n",
    "@tf.function\n",
    "def cube(z):\n",
    "    return tf.pow(z, 3)\n",
    "\n",
    "try:\n",
    "    print(cube(tf.constant([1., 2., 3.])))\n",
    "except ValueError as ex:\n",
    "    print(ex)\n",
    "\n",
    "print('-'*50)\n",
    "#这行没问题\n",
    "print(cube(tf.constant([1, 2, 3])))\n",
    "print(cube)"
   ]
  },
  {
   "cell_type": "code",
   "execution_count": null,
   "metadata": {
    "pycharm": {
     "is_executing": true
    }
   },
   "outputs": [],
   "source": [
    "int('abc')"
   ]
  },
  {
   "cell_type": "code",
   "execution_count": null,
   "metadata": {
    "pycharm": {
     "is_executing": true
    }
   },
   "outputs": [],
   "source": [
    "# @tf.function py func -> tf graph\n",
    "# get_concrete_function -> 给tf.function add input signature -> SavedModel\n",
    "# 这里是额外增加了一个处理，即必须传入整形\n",
    "# 有了这句就不能有 @tf.function(input_signature=[tf.TensorSpec([None], tf.int32, name='x')])\n",
    "cube_func_int32 = cube.get_concrete_function(\n",
    "    tf.TensorSpec([None], tf.int32))\n",
    "print(cube_func_int32)\n",
    "print(cube)\n",
    "\n",
    "try:\n",
    "    print(cube_func_int32(tf.constant([1, 2, 3])))\n",
    "except Exception as ex:\n",
    "    print(ex)"
   ]
  },
  {
   "cell_type": "code",
   "execution_count": null,
   "metadata": {
    "pycharm": {
     "is_executing": true
    }
   },
   "outputs": [],
   "source": [
    "# 没必要这样做\n",
    "#我们只要看原来函数和新生成的是否一致\n",
    "# print(cube_func_int32 is cube.get_concrete_function())\n",
    "print(cube.get_concrete_function(\n",
    "    tf.constant([1, 2, 3])))\n",
    "print(cube_func_int32)\n",
    "print(cube_func_int32 is cube.get_concrete_function(\n",
    "    tf.constant([1, 2, 3])))"
   ]
  },
  {
   "cell_type": "code",
   "execution_count": null,
   "metadata": {
    "pycharm": {
     "is_executing": true
    }
   },
   "outputs": [],
   "source": [
    "print(cube_func_int32)\n",
    "cube_func_int32.graph"
   ]
  },
  {
   "cell_type": "code",
   "execution_count": null,
   "metadata": {
    "pycharm": {
     "is_executing": true
    }
   },
   "outputs": [],
   "source": [
    "#看下图定义都有哪些操作,了解即可\n",
    "cube_func_int32.graph.get_operations()"
   ]
  },
  {
   "cell_type": "code",
   "execution_count": null,
   "metadata": {
    "scrolled": true,
    "pycharm": {
     "is_executing": true
    }
   },
   "outputs": [],
   "source": [
    "pow_op = cube_func_int32.graph.get_operations()[0]\n",
    "print(pow_op)"
   ]
  },
  {
   "cell_type": "code",
   "execution_count": null,
   "metadata": {
    "pycharm": {
     "is_executing": true
    }
   },
   "outputs": [],
   "source": [
    "print(list(pow_op.inputs))\n",
    "print('-'*50)\n",
    "print(list(pow_op.outputs))\n"
   ]
  },
  {
   "cell_type": "code",
   "execution_count": null,
   "metadata": {
    "pycharm": {
     "is_executing": true
    }
   },
   "outputs": [],
   "source": [
    "#Placeholder用来放输入的地方，2.0中不需要，图中依然保留了\n",
    "cube_func_int32.graph.get_operation_by_name(\"z\")"
   ]
  },
  {
   "cell_type": "code",
   "execution_count": null,
   "metadata": {
    "pycharm": {
     "is_executing": true
    }
   },
   "outputs": [],
   "source": [
    "cube_func_int32.graph.get_tensor_by_name(\"z:0\")"
   ]
  },
  {
   "cell_type": "code",
   "execution_count": null,
   "metadata": {
    "pycharm": {
     "is_executing": true
    }
   },
   "outputs": [],
   "source": [
    "#打印出来看看图信息\n",
    "cube_func_int32.graph.as_graph_def()"
   ]
  },
  {
   "cell_type": "code",
   "execution_count": null,
   "metadata": {
    "pycharm": {
     "is_executing": true
    }
   },
   "outputs": [],
   "source": []
  }
 ],
 "metadata": {
  "kernelspec": {
   "display_name": "Python 3",
   "language": "python",
   "name": "python3"
  },
  "language_info": {
   "codemirror_mode": {
    "name": "ipython",
    "version": 3
   },
   "file_extension": ".py",
   "mimetype": "text/x-python",
   "name": "python",
   "nbconvert_exporter": "python",
   "pygments_lexer": "ipython3",
   "version": "3.6.9"
  }
 },
 "nbformat": 4,
 "nbformat_minor": 2
}
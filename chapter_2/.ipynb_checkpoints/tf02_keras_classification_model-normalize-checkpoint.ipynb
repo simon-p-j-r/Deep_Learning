{
 "cells": [
  {
   "cell_type": "code",
   "execution_count": 1,
   "metadata": {},
   "outputs": [
    {
     "name": "stdout",
     "output_type": "stream",
     "text": [
      "2.2.0\n",
      "sys.version_info(major=3, minor=6, micro=9, releaselevel='final', serial=0)\n",
      "matplotlib 3.3.4\n",
      "numpy 1.19.5\n",
      "pandas 1.1.5\n",
      "sklearn 0.24.2\n",
      "tensorflow 2.2.0\n",
      "tensorflow.keras 2.3.0-tf\n"
     ]
    }
   ],
   "source": [
    "import matplotlib as mpl\n",
    "import matplotlib.pyplot as plt\n",
    "%matplotlib inline\n",
    "import numpy as np\n",
    "import sklearn\n",
    "import pandas as pd\n",
    "import os\n",
    "import sys\n",
    "import time\n",
    "import tensorflow as tf\n",
    "\n",
    "from tensorflow import keras\n",
    "\n",
    "print(tf.__version__)\n",
    "print(sys.version_info)\n",
    "for module in mpl, np, pd, sklearn, tf, keras:\n",
    "    print(module.__name__, module.__version__)\n"
   ]
  },
  {
   "cell_type": "code",
   "execution_count": 3,
   "metadata": {},
   "outputs": [
    {
     "name": "stdout",
     "output_type": "stream",
     "text": [
      "(5000, 28, 28) (5000,)\n",
      "(55000, 28, 28) (55000,)\n",
      "(10000, 28, 28) (10000,)\n"
     ]
    }
   ],
   "source": [
    "fashion_mnist = keras.datasets.fashion_mnist\n",
    "(x_train_all, y_train_all), (x_test, y_test) = fashion_mnist.load_data()\n",
    "x_valid, x_train = x_train_all[:5000], x_train_all[5000:]\n",
    "y_valid, y_train = y_train_all[:5000], y_train_all[5000:]\n",
    "\n",
    "print(x_valid.shape, y_valid.shape)\n",
    "print(x_train.shape, y_train.shape)\n",
    "print(x_test.shape, y_test.shape)"
   ]
  },
  {
   "cell_type": "code",
   "execution_count": 4,
   "metadata": {},
   "outputs": [
    {
     "name": "stdout",
     "output_type": "stream",
     "text": [
      "255 0\n"
     ]
    }
   ],
   "source": [
    "print(np.max(x_train), np.min(x_train))"
   ]
  },
  {
   "cell_type": "code",
   "execution_count": 5,
   "metadata": {},
   "outputs": [
    {
     "data": {
      "text/plain": [
       "(43120000, 1)"
      ]
     },
     "execution_count": 5,
     "metadata": {},
     "output_type": "execute_result"
    }
   ],
   "source": [
    "x_train.reshape(-1, 1).shape"
   ]
  },
  {
   "cell_type": "code",
   "execution_count": 5,
   "metadata": {},
   "outputs": [],
   "source": [
    "# x = (x - u) / std\n",
    "#通过原有sk的标准化进行处理\n",
    "from sklearn.preprocessing import StandardScaler\n",
    "\n",
    "scaler = StandardScaler()\n",
    "# x_train: [None, 28, 28] -> [None, 784]\n",
    "#先reshape变为二维（相当于1列）的目的是对每一个像素点进行标准化（让其等价）\n",
    "x_train_scaled = scaler.fit_transform(\n",
    "    x_train.astype(np.float32).reshape(-1, 1)).reshape(-1, 28, 28)\n",
    "#这个是验证集，验证集用的也是训练集的均值和方差\n",
    "x_valid_scaled = scaler.transform(\n",
    "    x_valid.astype(np.float32).reshape(-1, 1)).reshape(-1, 28, 28)\n",
    "#这个是测试集\n",
    "x_test_scaled = scaler.transform(\n",
    "    x_test.astype(np.float32).reshape(-1, 1)).reshape(-1, 28, 28)\n"
   ]
  },
  {
   "cell_type": "code",
   "execution_count": 6,
   "metadata": {},
   "outputs": [
    {
     "name": "stdout",
     "output_type": "stream",
     "text": [
      "2.0231433 -0.8105136\n"
     ]
    }
   ],
   "source": [
    "print(np.max(x_train_scaled), np.min(x_train_scaled))"
   ]
  },
  {
   "cell_type": "code",
   "execution_count": 7,
   "metadata": {},
   "outputs": [],
   "source": [
    "# tf.keras.models.Sequential()\n",
    "\n",
    "\"\"\"\n",
    "model = keras.models.Sequential()\n",
    "model.add(keras.layers.Flatten(input_shape=[28, 28]))\n",
    "model.add(keras.layers.Dense(300, activation=\"relu\"))\n",
    "model.add(keras.layers.Dense(100, activation=\"relu\"))\n",
    "model.add(keras.layers.Dense(10, activation=\"softmax\"))\n",
    "\"\"\"\n",
    "\n",
    "model = keras.models.Sequential([\n",
    "    keras.layers.Flatten(input_shape=[28, 28]),\n",
    "    keras.layers.Dense(300, activation='relu'),\n",
    "    keras.layers.Dense(100, activation='relu'),\n",
    "    keras.layers.Dense(10, activation='softmax')\n",
    "])\n",
    "\n",
    "# relu: y = max(0, x)\n",
    "# softmax: 将向量变成概率分布. x = [x1, x2, x3], \n",
    "#          y = [e^x1/sum, e^x2/sum, e^x3/sum], sum = e^x1 + e^x2 + e^x3\n",
    "\n",
    "# reason for sparse: y->index. y->one_hot->[] \n",
    "model.compile(loss=\"sparse_categorical_crossentropy\",\n",
    "              optimizer = keras.optimizers.SGD(0.001),\n",
    "              metrics = [\"accuracy\"])"
   ]
  },
  {
   "cell_type": "code",
   "execution_count": 8,
   "metadata": {},
   "outputs": [
    {
     "name": "stdout",
     "output_type": "stream",
     "text": [
      "Epoch 1/20\n",
      "1719/1719 [==============================] - 6s 4ms/step - loss: 0.8988 - accuracy: 0.7077 - val_loss: 0.6063 - val_accuracy: 0.7986\n",
      "Epoch 2/20\n",
      "1719/1719 [==============================] - 6s 4ms/step - loss: 0.5790 - accuracy: 0.7988 - val_loss: 0.5168 - val_accuracy: 0.8226\n",
      "Epoch 3/20\n",
      "1719/1719 [==============================] - 6s 4ms/step - loss: 0.5150 - accuracy: 0.8192 - val_loss: 0.4785 - val_accuracy: 0.8412\n",
      "Epoch 4/20\n",
      "1719/1719 [==============================] - 6s 3ms/step - loss: 0.4802 - accuracy: 0.8309 - val_loss: 0.4531 - val_accuracy: 0.8494\n",
      "Epoch 5/20\n",
      "1719/1719 [==============================] - 7s 4ms/step - loss: 0.4565 - accuracy: 0.8389 - val_loss: 0.4377 - val_accuracy: 0.8534\n",
      "Epoch 6/20\n",
      "1719/1719 [==============================] - 6s 4ms/step - loss: 0.4385 - accuracy: 0.8446 - val_loss: 0.4237 - val_accuracy: 0.8528\n",
      "Epoch 7/20\n",
      "1719/1719 [==============================] - 6s 3ms/step - loss: 0.4246 - accuracy: 0.8503 - val_loss: 0.4143 - val_accuracy: 0.8578\n",
      "Epoch 8/20\n",
      "1719/1719 [==============================] - 6s 4ms/step - loss: 0.4128 - accuracy: 0.8546 - val_loss: 0.4070 - val_accuracy: 0.8608\n",
      "Epoch 9/20\n",
      "1719/1719 [==============================] - 7s 4ms/step - loss: 0.4033 - accuracy: 0.8571 - val_loss: 0.3979 - val_accuracy: 0.8616\n",
      "Epoch 10/20\n",
      "1719/1719 [==============================] - 6s 3ms/step - loss: 0.3948 - accuracy: 0.8603 - val_loss: 0.3912 - val_accuracy: 0.8666\n",
      "Epoch 11/20\n",
      "1719/1719 [==============================] - 7s 4ms/step - loss: 0.3870 - accuracy: 0.8628 - val_loss: 0.3876 - val_accuracy: 0.8630\n",
      "Epoch 12/20\n",
      "1719/1719 [==============================] - 6s 3ms/step - loss: 0.3799 - accuracy: 0.8650 - val_loss: 0.3825 - val_accuracy: 0.8658\n",
      "Epoch 13/20\n",
      "1719/1719 [==============================] - 5s 3ms/step - loss: 0.3741 - accuracy: 0.8666 - val_loss: 0.3759 - val_accuracy: 0.8682\n",
      "Epoch 14/20\n",
      "1719/1719 [==============================] - 6s 3ms/step - loss: 0.3683 - accuracy: 0.8689 - val_loss: 0.3718 - val_accuracy: 0.8700\n",
      "Epoch 15/20\n",
      "1719/1719 [==============================] - 6s 3ms/step - loss: 0.3632 - accuracy: 0.8705 - val_loss: 0.3678 - val_accuracy: 0.8676\n",
      "Epoch 16/20\n",
      "1719/1719 [==============================] - 6s 3ms/step - loss: 0.3582 - accuracy: 0.8731 - val_loss: 0.3658 - val_accuracy: 0.8716\n",
      "Epoch 17/20\n",
      "1719/1719 [==============================] - 6s 3ms/step - loss: 0.3536 - accuracy: 0.8737 - val_loss: 0.3625 - val_accuracy: 0.8720\n",
      "Epoch 18/20\n",
      "1719/1719 [==============================] - 6s 4ms/step - loss: 0.3494 - accuracy: 0.8759 - val_loss: 0.3591 - val_accuracy: 0.8714\n",
      "Epoch 19/20\n",
      "1719/1719 [==============================] - 6s 3ms/step - loss: 0.3454 - accuracy: 0.8766 - val_loss: 0.3562 - val_accuracy: 0.8718\n",
      "Epoch 20/20\n",
      "1719/1719 [==============================] - 6s 4ms/step - loss: 0.3415 - accuracy: 0.8783 - val_loss: 0.3535 - val_accuracy: 0.8718\n"
     ]
    }
   ],
   "source": [
    "#如果再次直接fit是接着之前的进行训练的，如果要从头训练，要重新执行上面代码\n",
    "history = model.fit(x_train_scaled, y_train, epochs=20,\n",
    "                    validation_data=(x_valid_scaled, y_valid))"
   ]
  },
  {
   "cell_type": "code",
   "execution_count": 9,
   "metadata": {},
   "outputs": [
    {
     "name": "stdout",
     "output_type": "stream",
     "text": [
      "<class 'dict'>\n",
      "{'loss': [0.9187554717063904, 0.5783982872962952, 0.5103822946548462, 0.47389134764671326, 0.4496195614337921, 0.4318609833717346, 0.41736242175102234, 0.4053856134414673, 0.39598163962364197, 0.38684895634651184, 0.37956371903419495, 0.3728279769420624, 0.36684924364089966, 0.36130693554878235, 0.3560217022895813, 0.35120248794555664, 0.34686604142189026, 0.34247466921806335, 0.33871689438819885, 0.3351075351238251], 'accuracy': [0.7024727463722229, 0.8001090884208679, 0.822490930557251, 0.8343636393547058, 0.8429454565048218, 0.8489636182785034, 0.8547272682189941, 0.8571090698242188, 0.8607272505760193, 0.8649818301200867, 0.8673090934753418, 0.869563639163971, 0.8711636066436768, 0.8734545707702637, 0.8755999803543091, 0.8759454488754272, 0.8784727454185486, 0.8792363405227661, 0.881672739982605, 0.8816182017326355], 'val_loss': [0.6106487512588501, 0.513627290725708, 0.4715728163719177, 0.4453268051147461, 0.428178608417511, 0.41308891773223877, 0.4031428098678589, 0.3961222767829895, 0.3879703879356384, 0.38071298599243164, 0.3795410990715027, 0.374565988779068, 0.3686155378818512, 0.36173391342163086, 0.36198318004608154, 0.357845276594162, 0.35405227541923523, 0.3579235076904297, 0.35319945216178894, 0.3486127555370331], 'val_accuracy': [0.7978000044822693, 0.8266000151634216, 0.8414000272750854, 0.8518000245094299, 0.8547999858856201, 0.86080002784729, 0.8637999892234802, 0.864799976348877, 0.8636000156402588, 0.8679999709129333, 0.8669999837875366, 0.8672000169754028, 0.8687999844551086, 0.870199978351593, 0.8700000047683716, 0.8736000061035156, 0.8726000189781189, 0.8741999864578247, 0.8737999796867371, 0.8758000135421753]}\n"
     ]
    }
   ],
   "source": [
    "print(type(history.history))\n",
    "print(history.history)"
   ]
  },
  {
   "cell_type": "code",
   "execution_count": 10,
   "metadata": {},
   "outputs": [
    {
     "data": {
      "image/png": "[encoded data removed]",
      "text/plain": [
       "<Figure size 576x360 with 1 Axes>"
      ]
     },
     "metadata": {
      "needs_background": "light"
     },
     "output_type": "display_data"
    }
   ],
   "source": [
    "def plot_learning_curves(history):\n",
    "    pd.DataFrame(history.history).plot(figsize=(8, 5))\n",
    "    plt.grid(True)\n",
    "    plt.gca().set_ylim(0, 1)\n",
    "    plt.show()\n",
    "\n",
    "plot_learning_curves(history)"
   ]
  },
  {
   "cell_type": "code",
   "execution_count": 11,
   "metadata": {},
   "outputs": [
    {
     "data": {
      "text/plain": [
       "[0.3901183009147644, 0.8592000007629395]"
      ]
     },
     "execution_count": 11,
     "metadata": {},
     "output_type": "execute_result"
    }
   ],
   "source": [
    "model.evaluate(x_test_scaled, y_test, verbose=0)"
   ]
  },
  {
   "cell_type": "code",
   "execution_count": null,
   "metadata": {},
   "outputs": [],
   "source": []
  }
 ],
 "metadata": {
  "kernelspec": {
   "display_name": "Python 3",
   "language": "python",
   "name": "python3"
  },
  "language_info": {
   "codemirror_mode": {
    "name": "ipython",
    "version": 3
   },
   "file_extension": ".py",
   "mimetype": "text/x-python",
   "name": "python",
   "nbconvert_exporter": "python",
   "pygments_lexer": "ipython3",
   "version": "3.6.9"
  }
 },
 "nbformat": 4,
 "nbformat_minor": 2
}

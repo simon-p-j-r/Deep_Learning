{
 "cells": [
  {
   "cell_type": "code",
   "execution_count": 1,
   "metadata": {},
   "outputs": [
    {
     "name": "stdout",
     "output_type": "stream",
     "text": [
      "2.2.0\n",
      "sys.version_info(major=3, minor=6, micro=9, releaselevel='final', serial=0)\n",
      "matplotlib 3.2.1\n",
      "numpy 1.18.5\n",
      "pandas 1.0.4\n",
      "sklearn 0.23.1\n",
      "tensorflow 2.2.0\n",
      "tensorflow.keras 2.3.0-tf\n"
     ]
    }
   ],
   "source": [
    "import matplotlib as mpl\n",
    "import matplotlib.pyplot as plt\n",
    "%matplotlib inline\n",
    "import numpy as np\n",
    "import sklearn\n",
    "import pandas as pd\n",
    "import os\n",
    "import sys\n",
    "import time\n",
    "import tensorflow as tf\n",
    "\n",
    "from tensorflow import keras\n",
    "\n",
    "print(tf.__version__)\n",
    "print(sys.version_info)\n",
    "for module in mpl, np, pd, sklearn, tf, keras:\n",
    "    print(module.__name__, module.__version__)"
   ]
  },
  {
   "cell_type": "code",
   "execution_count": 2,
   "metadata": {},
   "outputs": [
    {
     "name": "stdout",
     "output_type": "stream",
     "text": [
      ".. _california_housing_dataset:\n",
      "\n",
      "California Housing dataset\n",
      "--------------------------\n",
      "\n",
      "**Data Set Characteristics:**\n",
      "\n",
      "    :Number of Instances: 20640\n",
      "\n",
      "    :Number of Attributes: 8 numeric, predictive attributes and the target\n",
      "\n",
      "    :Attribute Information:\n",
      "        - MedInc        median income in block\n",
      "        - HouseAge      median house age in block\n",
      "        - AveRooms      average number of rooms\n",
      "        - AveBedrms     average number of bedrooms\n",
      "        - Population    block population\n",
      "        - AveOccup      average house occupancy\n",
      "        - Latitude      house block latitude\n",
      "        - Longitude     house block longitude\n",
      "\n",
      "    :Missing Attribute Values: None\n",
      "\n",
      "This dataset was obtained from the StatLib repository.\n",
      "http://lib.stat.cmu.edu/datasets/\n",
      "\n",
      "The target variable is the median house value for California districts.\n",
      "\n",
      "This dataset was derived from the 1990 U.S. census, using one row per census\n",
      "block group. A block group is the smallest geographical unit for which the U.S.\n",
      "Census Bureau publishes sample data (a block group typically has a population\n",
      "of 600 to 3,000 people).\n",
      "\n",
      "It can be downloaded/loaded using the\n",
      ":func:`sklearn.datasets.fetch_california_housing` function.\n",
      "\n",
      ".. topic:: References\n",
      "\n",
      "    - Pace, R. Kelley and Ronald Barry, Sparse Spatial Autoregressions,\n",
      "      Statistics and Probability Letters, 33 (1997) 291-297\n",
      "\n",
      "(20640, 8)\n",
      "(20640,)\n"
     ]
    }
   ],
   "source": [
    "from sklearn.datasets import fetch_california_housing\n",
    "\n",
    "housing = fetch_california_housing()\n",
    "print(housing.DESCR)\n",
    "print(housing.data.shape)\n",
    "print(housing.target.shape)"
   ]
  },
  {
   "cell_type": "code",
   "execution_count": 3,
   "metadata": {},
   "outputs": [
    {
     "name": "stdout",
     "output_type": "stream",
     "text": [
      "(11610, 8) (11610,)\n",
      "(3870, 8) (3870,)\n",
      "(5160, 8) (5160,)\n"
     ]
    }
   ],
   "source": [
    "from sklearn.model_selection import train_test_split\n",
    "\n",
    "x_train_all, x_test, y_train_all, y_test = train_test_split(\n",
    "    housing.data, housing.target, random_state = 7)\n",
    "x_train, x_valid, y_train, y_valid = train_test_split(\n",
    "    x_train_all, y_train_all, random_state = 11)\n",
    "print(x_train.shape, y_train.shape)\n",
    "print(x_valid.shape, y_valid.shape)\n",
    "print(x_test.shape, y_test.shape)\n"
   ]
  },
  {
   "cell_type": "code",
   "execution_count": 4,
   "metadata": {},
   "outputs": [],
   "source": [
    "from sklearn.preprocessing import StandardScaler\n",
    "\n",
    "scaler = StandardScaler()\n",
    "x_train_scaled = scaler.fit_transform(x_train)\n",
    "x_valid_scaled = scaler.transform(x_valid)\n",
    "x_test_scaled = scaler.transform(x_test)"
   ]
  },
  {
   "cell_type": "code",
   "execution_count": 5,
   "metadata": {},
   "outputs": [
    {
     "name": "stdout",
     "output_type": "stream",
     "text": [
      "(8,)\n"
     ]
    }
   ],
   "source": [
    "print(x_train.shape[1:])"
   ]
  },
  {
   "cell_type": "code",
   "execution_count": 6,
   "metadata": {},
   "outputs": [
    {
     "name": "stdout",
     "output_type": "stream",
     "text": [
      "Tensor(\"input_1:0\", shape=(None, 8), dtype=float32)\n",
      "Model: \"model\"\n",
      "__________________________________________________________________________________________________\n",
      "Layer (type)                    Output Shape         Param #     Connected to                     \n",
      "==================================================================================================\n",
      "input_1 (InputLayer)            [(None, 8)]          0                                            \n",
      "__________________________________________________________________________________________________\n",
      "dense (Dense)                   (None, 30)           270         input_1[0][0]                    \n",
      "__________________________________________________________________________________________________\n",
      "dense_1 (Dense)                 (None, 30)           930         dense[0][0]                      \n",
      "__________________________________________________________________________________________________\n",
      "concatenate (Concatenate)       (None, 38)           0           input_1[0][0]                    \n",
      "                                                                 dense_1[0][0]                    \n",
      "__________________________________________________________________________________________________\n",
      "dense_2 (Dense)                 (None, 1)            39          concatenate[0][0]                \n",
      "==================================================================================================\n",
      "Total params: 1,239\n",
      "Trainable params: 1,239\n",
      "Non-trainable params: 0\n",
      "__________________________________________________________________________________________________\n"
     ]
    }
   ],
   "source": [
    "#这部分在搭建deep模型\n",
    "# 函数式API 功能API,和之前不一样\n",
    "input = keras.layers.Input(shape=x_train.shape[1:])\n",
    "print(input)\n",
    "#input作为输入\n",
    "# 调用了call方法,后面个括号里面跟的是这一层的输入\n",
    "hidden1 = keras.layers.Dense(30, activation='relu')(input)\n",
    "#hidden1作为输入\n",
    "hidden2 = keras.layers.Dense(30, activation='relu')(hidden1)\n",
    "# 复合函数: f(x) = h(g(x))\n",
    "\n",
    "#假设wide模型和deep模型的输入是一样的，wide是input，deep是hidden2对吗？\n",
    "concat = keras.layers.concatenate([input, hidden2])\n",
    "output = keras.layers.Dense(1)(concat)\n",
    "\n",
    "#然后定义model，放入input，output\n",
    "model = keras.models.Model(inputs = [input],\n",
    "                           outputs = [output])\n",
    "\n",
    "model.summary()\n",
    "model.compile(loss=\"mean_squared_error\",\n",
    "              optimizer = keras.optimizers.SGD(0.001))\n",
    "callbacks = [keras.callbacks.EarlyStopping(\n",
    "    patience=5, min_delta=1e-3)]"
   ]
  },
  {
   "cell_type": "code",
   "execution_count": 7,
   "metadata": {},
   "outputs": [
    {
     "data": {
      "text/plain": [
       "[<tensorflow.python.keras.engine.input_layer.InputLayer at 0x7faa7b252b00>,\n",
       " <tensorflow.python.keras.layers.core.Dense at 0x7faa7b1f94a8>,\n",
       " <tensorflow.python.keras.layers.core.Dense at 0x7faa7b1f9cc0>,\n",
       " <tensorflow.python.keras.layers.merge.Concatenate at 0x7faa7b1f9e80>,\n",
       " <tensorflow.python.keras.layers.core.Dense at 0x7faa7a9b9cf8>]"
      ]
     },
     "execution_count": 7,
     "metadata": {},
     "output_type": "execute_result"
    }
   ],
   "source": [
    "model.layers"
   ]
  },
  {
   "cell_type": "code",
   "execution_count": 8,
   "metadata": {},
   "outputs": [
    {
     "name": "stdout",
     "output_type": "stream",
     "text": [
      "Epoch 1/100\n",
      "363/363 [==============================] - 1s 2ms/step - loss: 2.1173 - val_loss: 0.8857\n",
      "Epoch 2/100\n",
      "363/363 [==============================] - 1s 2ms/step - loss: 0.7190 - val_loss: 0.6933\n",
      "Epoch 3/100\n",
      "363/363 [==============================] - 1s 1ms/step - loss: 0.6240 - val_loss: 0.6473\n",
      "Epoch 4/100\n",
      "363/363 [==============================] - 1s 2ms/step - loss: 0.5882 - val_loss: 0.6206\n",
      "Epoch 5/100\n",
      "363/363 [==============================] - 1s 2ms/step - loss: 0.5642 - val_loss: 0.5974\n",
      "Epoch 6/100\n",
      "363/363 [==============================] - 1s 2ms/step - loss: 0.5461 - val_loss: 0.5755\n",
      "Epoch 7/100\n",
      "363/363 [==============================] - 1s 2ms/step - loss: 0.5307 - val_loss: 0.5656\n",
      "Epoch 8/100\n",
      "363/363 [==============================] - 1s 2ms/step - loss: 0.5178 - val_loss: 0.5522\n",
      "Epoch 9/100\n",
      "363/363 [==============================] - 1s 2ms/step - loss: 0.5076 - val_loss: 0.5401\n",
      "Epoch 10/100\n",
      "363/363 [==============================] - 1s 1ms/step - loss: 0.4984 - val_loss: 0.5271\n",
      "Epoch 11/100\n",
      "363/363 [==============================] - 1s 2ms/step - loss: 0.4906 - val_loss: 0.5189\n",
      "Epoch 12/100\n",
      "363/363 [==============================] - 1s 2ms/step - loss: 0.4835 - val_loss: 0.5132\n",
      "Epoch 13/100\n",
      "363/363 [==============================] - 1s 2ms/step - loss: 0.4776 - val_loss: 0.5078\n",
      "Epoch 14/100\n",
      "363/363 [==============================] - 1s 1ms/step - loss: 0.4717 - val_loss: 0.4994\n",
      "Epoch 15/100\n",
      "363/363 [==============================] - 1s 1ms/step - loss: 0.4666 - val_loss: 0.4932\n",
      "Epoch 16/100\n",
      "363/363 [==============================] - 1s 2ms/step - loss: 0.4622 - val_loss: 0.4883\n",
      "Epoch 17/100\n",
      "363/363 [==============================] - 1s 1ms/step - loss: 0.4577 - val_loss: 0.4844\n",
      "Epoch 18/100\n",
      "363/363 [==============================] - 1s 2ms/step - loss: 0.4536 - val_loss: 0.4796\n",
      "Epoch 19/100\n",
      "363/363 [==============================] - 1s 2ms/step - loss: 0.4504 - val_loss: 0.4744\n",
      "Epoch 20/100\n",
      "363/363 [==============================] - 1s 1ms/step - loss: 0.4465 - val_loss: 0.4712\n",
      "Epoch 21/100\n",
      "363/363 [==============================] - 1s 2ms/step - loss: 0.4442 - val_loss: 0.4680\n",
      "Epoch 22/100\n",
      "363/363 [==============================] - 1s 2ms/step - loss: 0.4407 - val_loss: 0.4636\n",
      "Epoch 23/100\n",
      "363/363 [==============================] - 1s 2ms/step - loss: 0.4377 - val_loss: 0.4604\n",
      "Epoch 24/100\n",
      "363/363 [==============================] - 1s 2ms/step - loss: 0.4349 - val_loss: 0.4582\n",
      "Epoch 25/100\n",
      "363/363 [==============================] - 1s 2ms/step - loss: 0.4323 - val_loss: 0.4540\n",
      "Epoch 26/100\n",
      "363/363 [==============================] - 1s 1ms/step - loss: 0.4295 - val_loss: 0.4504\n",
      "Epoch 27/100\n",
      "363/363 [==============================] - 1s 2ms/step - loss: 0.4269 - val_loss: 0.4477\n",
      "Epoch 28/100\n",
      "363/363 [==============================] - 1s 2ms/step - loss: 0.4244 - val_loss: 0.4454\n",
      "Epoch 29/100\n",
      "363/363 [==============================] - 1s 2ms/step - loss: 0.4220 - val_loss: 0.4431\n",
      "Epoch 30/100\n",
      "363/363 [==============================] - 1s 1ms/step - loss: 0.4194 - val_loss: 0.4396\n",
      "Epoch 31/100\n",
      "363/363 [==============================] - 1s 2ms/step - loss: 0.4166 - val_loss: 0.4376\n",
      "Epoch 32/100\n",
      "363/363 [==============================] - 1s 2ms/step - loss: 0.4150 - val_loss: 0.4345\n",
      "Epoch 33/100\n",
      "363/363 [==============================] - 1s 2ms/step - loss: 0.4125 - val_loss: 0.4323\n",
      "Epoch 34/100\n",
      "363/363 [==============================] - 1s 2ms/step - loss: 0.4100 - val_loss: 0.4306\n",
      "Epoch 35/100\n",
      "363/363 [==============================] - 1s 2ms/step - loss: 0.4079 - val_loss: 0.4277\n",
      "Epoch 36/100\n",
      "363/363 [==============================] - 1s 2ms/step - loss: 0.4060 - val_loss: 0.4251\n",
      "Epoch 37/100\n",
      "363/363 [==============================] - 1s 2ms/step - loss: 0.4036 - val_loss: 0.4246\n",
      "Epoch 38/100\n",
      "363/363 [==============================] - 1s 2ms/step - loss: 0.4019 - val_loss: 0.4210\n",
      "Epoch 39/100\n",
      "363/363 [==============================] - 1s 2ms/step - loss: 0.3999 - val_loss: 0.4206\n",
      "Epoch 40/100\n",
      "363/363 [==============================] - 1s 2ms/step - loss: 0.3980 - val_loss: 0.4169\n",
      "Epoch 41/100\n",
      "363/363 [==============================] - 1s 1ms/step - loss: 0.3962 - val_loss: 0.4152\n",
      "Epoch 42/100\n",
      "363/363 [==============================] - 1s 2ms/step - loss: 0.3945 - val_loss: 0.4137\n",
      "Epoch 43/100\n",
      "363/363 [==============================] - 0s 1ms/step - loss: 0.3928 - val_loss: 0.4118\n",
      "Epoch 44/100\n",
      "363/363 [==============================] - 1s 1ms/step - loss: 0.3913 - val_loss: 0.4097\n",
      "Epoch 45/100\n",
      "363/363 [==============================] - 0s 1ms/step - loss: 0.3898 - val_loss: 0.4078\n",
      "Epoch 46/100\n",
      "363/363 [==============================] - 1s 1ms/step - loss: 0.3881 - val_loss: 0.4067\n",
      "Epoch 47/100\n",
      "363/363 [==============================] - 0s 1ms/step - loss: 0.3864 - val_loss: 0.4049\n",
      "Epoch 48/100\n",
      "363/363 [==============================] - 1s 1ms/step - loss: 0.3850 - val_loss: 0.4031\n",
      "Epoch 49/100\n",
      "363/363 [==============================] - 1s 1ms/step - loss: 0.3835 - val_loss: 0.4020\n",
      "Epoch 50/100\n",
      "363/363 [==============================] - 1s 2ms/step - loss: 0.3820 - val_loss: 0.3998\n",
      "Epoch 51/100\n",
      "363/363 [==============================] - 1s 2ms/step - loss: 0.3809 - val_loss: 0.3984\n",
      "Epoch 52/100\n",
      "363/363 [==============================] - 1s 2ms/step - loss: 0.3794 - val_loss: 0.3965\n",
      "Epoch 53/100\n",
      "363/363 [==============================] - 1s 1ms/step - loss: 0.3780 - val_loss: 0.3963\n",
      "Epoch 54/100\n",
      "363/363 [==============================] - 1s 1ms/step - loss: 0.3767 - val_loss: 0.3935\n",
      "Epoch 55/100\n",
      "363/363 [==============================] - 1s 2ms/step - loss: 0.3752 - val_loss: 0.3930\n",
      "Epoch 56/100\n",
      "363/363 [==============================] - 1s 2ms/step - loss: 0.3741 - val_loss: 0.3918\n",
      "Epoch 57/100\n",
      "363/363 [==============================] - 1s 2ms/step - loss: 0.3730 - val_loss: 0.3911\n",
      "Epoch 58/100\n",
      "363/363 [==============================] - 1s 2ms/step - loss: 0.3717 - val_loss: 0.3891\n",
      "Epoch 59/100\n",
      "363/363 [==============================] - 1s 2ms/step - loss: 0.3706 - val_loss: 0.3892\n",
      "Epoch 60/100\n",
      "363/363 [==============================] - 1s 2ms/step - loss: 0.3696 - val_loss: 0.3871\n",
      "Epoch 61/100\n",
      "363/363 [==============================] - 1s 2ms/step - loss: 0.3684 - val_loss: 0.3855\n",
      "Epoch 62/100\n",
      "363/363 [==============================] - 1s 2ms/step - loss: 0.3673 - val_loss: 0.3853\n",
      "Epoch 63/100\n",
      "363/363 [==============================] - 1s 1ms/step - loss: 0.3665 - val_loss: 0.3827\n",
      "Epoch 64/100\n",
      "363/363 [==============================] - 1s 2ms/step - loss: 0.3652 - val_loss: 0.3821\n",
      "Epoch 65/100\n",
      "363/363 [==============================] - 1s 2ms/step - loss: 0.3640 - val_loss: 0.3821\n",
      "Epoch 66/100\n",
      "363/363 [==============================] - 1s 2ms/step - loss: 0.3633 - val_loss: 0.3802\n",
      "Epoch 67/100\n",
      "363/363 [==============================] - 1s 2ms/step - loss: 0.3623 - val_loss: 0.3793\n",
      "Epoch 68/100\n",
      "363/363 [==============================] - 1s 2ms/step - loss: 0.3611 - val_loss: 0.3789\n",
      "Epoch 69/100\n",
      "363/363 [==============================] - 1s 2ms/step - loss: 0.3601 - val_loss: 0.3767\n",
      "Epoch 70/100\n",
      "363/363 [==============================] - 1s 1ms/step - loss: 0.3592 - val_loss: 0.3787\n",
      "Epoch 71/100\n",
      "363/363 [==============================] - 1s 2ms/step - loss: 0.3583 - val_loss: 0.3769\n",
      "Epoch 72/100\n",
      "363/363 [==============================] - 1s 2ms/step - loss: 0.3573 - val_loss: 0.3744\n",
      "Epoch 73/100\n",
      "363/363 [==============================] - 1s 2ms/step - loss: 0.3562 - val_loss: 0.3722\n",
      "Epoch 74/100\n",
      "363/363 [==============================] - 1s 2ms/step - loss: 0.3551 - val_loss: 0.3742\n",
      "Epoch 75/100\n",
      "363/363 [==============================] - 1s 2ms/step - loss: 0.3546 - val_loss: 0.3719\n",
      "Epoch 76/100\n",
      "363/363 [==============================] - 1s 2ms/step - loss: 0.3536 - val_loss: 0.3705\n",
      "Epoch 77/100\n",
      "363/363 [==============================] - 1s 2ms/step - loss: 0.3530 - val_loss: 0.3699\n",
      "Epoch 78/100\n",
      "363/363 [==============================] - 1s 2ms/step - loss: 0.3521 - val_loss: 0.3686\n",
      "Epoch 79/100\n",
      "363/363 [==============================] - 1s 2ms/step - loss: 0.3510 - val_loss: 0.3691\n",
      "Epoch 80/100\n",
      "363/363 [==============================] - 1s 1ms/step - loss: 0.3505 - val_loss: 0.3683\n",
      "Epoch 81/100\n",
      "363/363 [==============================] - 1s 2ms/step - loss: 0.3496 - val_loss: 0.3674\n",
      "Epoch 82/100\n",
      "363/363 [==============================] - 1s 2ms/step - loss: 0.3488 - val_loss: 0.3658\n",
      "Epoch 83/100\n",
      "363/363 [==============================] - 1s 2ms/step - loss: 0.3480 - val_loss: 0.3651\n",
      "Epoch 84/100\n",
      "363/363 [==============================] - 1s 2ms/step - loss: 0.3472 - val_loss: 0.3637\n",
      "Epoch 85/100\n",
      "363/363 [==============================] - 1s 2ms/step - loss: 0.3462 - val_loss: 0.3635\n",
      "Epoch 86/100\n",
      "363/363 [==============================] - 1s 2ms/step - loss: 0.3457 - val_loss: 0.3617\n",
      "Epoch 87/100\n",
      "363/363 [==============================] - 1s 2ms/step - loss: 0.3450 - val_loss: 0.3610\n",
      "Epoch 88/100\n",
      "363/363 [==============================] - 1s 1ms/step - loss: 0.3442 - val_loss: 0.3595\n",
      "Epoch 89/100\n",
      "363/363 [==============================] - 1s 2ms/step - loss: 0.3436 - val_loss: 0.3594\n",
      "Epoch 90/100\n",
      "363/363 [==============================] - 1s 2ms/step - loss: 0.3427 - val_loss: 0.3602\n",
      "Epoch 91/100\n",
      "363/363 [==============================] - 1s 2ms/step - loss: 0.3424 - val_loss: 0.3576\n",
      "Epoch 92/100\n",
      "363/363 [==============================] - 1s 1ms/step - loss: 0.3417 - val_loss: 0.3576\n",
      "Epoch 93/100\n",
      "363/363 [==============================] - 1s 2ms/step - loss: 0.3406 - val_loss: 0.3565\n",
      "Epoch 94/100\n",
      "363/363 [==============================] - 1s 1ms/step - loss: 0.3398 - val_loss: 0.3558\n",
      "Epoch 95/100\n",
      "363/363 [==============================] - 1s 2ms/step - loss: 0.3396 - val_loss: 0.3569\n",
      "Epoch 96/100\n",
      "363/363 [==============================] - 1s 2ms/step - loss: 0.3388 - val_loss: 0.3547\n",
      "Epoch 97/100\n",
      "363/363 [==============================] - 1s 2ms/step - loss: 0.3383 - val_loss: 0.3529\n",
      "Epoch 98/100\n",
      "363/363 [==============================] - 1s 1ms/step - loss: 0.3377 - val_loss: 0.3526\n",
      "Epoch 99/100\n",
      "363/363 [==============================] - 1s 1ms/step - loss: 0.3370 - val_loss: 0.3538\n",
      "Epoch 100/100\n",
      "363/363 [==============================] - 1s 1ms/step - loss: 0.3366 - val_loss: 0.3512\n"
     ]
    }
   ],
   "source": [
    "history = model.fit(x_train_scaled, y_train,\n",
    "                    validation_data = (x_valid_scaled, y_valid),\n",
    "                    epochs = 100,\n",
    "                    callbacks = callbacks)"
   ]
  },
  {
   "cell_type": "code",
   "execution_count": 9,
   "metadata": {},
   "outputs": [
    {
     "name": "stdout",
     "output_type": "stream",
     "text": [
      "{'loss': [2.117349147796631, 0.7189735770225525, 0.6239988803863525, 0.5882251858711243, 0.5642239451408386, 0.5461430549621582, 0.5307304859161377, 0.5178187489509583, 0.507590115070343, 0.4984441101551056, 0.4906162917613983, 0.483466774225235, 0.4775790274143219, 0.47167253494262695, 0.46664896607398987, 0.4621666669845581, 0.4576612710952759, 0.45361122488975525, 0.450399249792099, 0.4464988708496094, 0.44417840242385864, 0.4406946897506714, 0.4377322793006897, 0.43494781851768494, 0.43232300877571106, 0.4295142590999603, 0.4269200265407562, 0.4244000017642975, 0.42196837067604065, 0.4193941354751587, 0.41662582755088806, 0.41498351097106934, 0.4124675691127777, 0.40999042987823486, 0.40789052844047546, 0.40599942207336426, 0.4035554826259613, 0.40190282464027405, 0.39989808201789856, 0.39803561568260193, 0.39622408151626587, 0.39448079466819763, 0.3927895128726959, 0.3913179337978363, 0.3898437023162842, 0.38805335760116577, 0.3864259123802185, 0.38499030470848083, 0.383516788482666, 0.38204488158226013, 0.3808901906013489, 0.3793594241142273, 0.37800782918930054, 0.376674622297287, 0.3752140402793884, 0.37406936287879944, 0.37304604053497314, 0.37173712253570557, 0.37061771750450134, 0.36955034732818604, 0.36843326687812805, 0.36726659536361694, 0.36649876832962036, 0.3651792109012604, 0.3639596998691559, 0.3632879853248596, 0.36231309175491333, 0.36107751727104187, 0.3600628972053528, 0.3592282235622406, 0.35829421877861023, 0.35734015703201294, 0.35619670152664185, 0.35508087277412415, 0.35458382964134216, 0.3535861670970917, 0.35300323367118835, 0.35207653045654297, 0.3510381281375885, 0.3505183160305023, 0.34958213567733765, 0.3487667739391327, 0.3479889929294586, 0.34718984365463257, 0.3461620807647705, 0.3456861674785614, 0.34502658247947693, 0.344218373298645, 0.343648761510849, 0.3426738381385803, 0.34240099787712097, 0.3417355716228485, 0.3405926823616028, 0.33980807662010193, 0.33961012959480286, 0.33881863951683044, 0.33827894926071167, 0.3376955986022949, 0.3370414674282074, 0.33656561374664307], 'val_loss': [0.8857333064079285, 0.6933051943778992, 0.6473028659820557, 0.6206421256065369, 0.5973647236824036, 0.5754794478416443, 0.5655702352523804, 0.5522472262382507, 0.5401286482810974, 0.5271385908126831, 0.5188741087913513, 0.5131901502609253, 0.5077947378158569, 0.49940434098243713, 0.4932301342487335, 0.48827698826789856, 0.48441529273986816, 0.47956451773643494, 0.4743864834308624, 0.47122129797935486, 0.4680355191230774, 0.46359020471572876, 0.46036383509635925, 0.45821622014045715, 0.45402538776397705, 0.45037224888801575, 0.4476566016674042, 0.44541528820991516, 0.4431166350841522, 0.43960443139076233, 0.4375765025615692, 0.43453413248062134, 0.43231236934661865, 0.43055546283721924, 0.4276972711086273, 0.4250602424144745, 0.4245816469192505, 0.4209536910057068, 0.42062628269195557, 0.41691821813583374, 0.4152460992336273, 0.41366589069366455, 0.4118478000164032, 0.4096793830394745, 0.40783652663230896, 0.40666499733924866, 0.40487977862358093, 0.40305107831954956, 0.4019961357116699, 0.399826318025589, 0.39843881130218506, 0.3965437114238739, 0.39634138345718384, 0.39349648356437683, 0.3929837942123413, 0.39178118109703064, 0.3910907208919525, 0.38909807801246643, 0.38919150829315186, 0.3871033191680908, 0.3854762613773346, 0.3853057622909546, 0.3827480673789978, 0.3821287453174591, 0.3821364641189575, 0.3802081048488617, 0.3793370723724365, 0.3789295256137848, 0.3767322897911072, 0.3786548674106598, 0.37685588002204895, 0.37440022826194763, 0.3722078800201416, 0.3742072582244873, 0.3718733787536621, 0.3705466091632843, 0.3698650300502777, 0.36862239241600037, 0.36907023191452026, 0.3682917356491089, 0.3673950731754303, 0.3658018112182617, 0.36514002084732056, 0.3637276291847229, 0.3634503483772278, 0.3617318570613861, 0.3609631061553955, 0.35954147577285767, 0.3593985438346863, 0.36017942428588867, 0.35755735635757446, 0.3576120436191559, 0.35653606057167053, 0.35580745339393616, 0.35692012310028076, 0.3547212779521942, 0.35294899344444275, 0.35263341665267944, 0.35379770398139954, 0.35124289989471436]}\n"
     ]
    }
   ],
   "source": [
    "print(history.history)"
   ]
  },
  {
   "cell_type": "code",
   "execution_count": 10,
   "metadata": {
    "scrolled": true
   },
   "outputs": [
    {
     "data": {
      "image/png": "[encoded data removed]",
      "text/plain": [
       "<Figure size 576x360 with 1 Axes>"
      ]
     },
     "metadata": {
      "needs_background": "light"
     },
     "output_type": "display_data"
    }
   ],
   "source": [
    "def plot_learning_curves(history):\n",
    "    pd.DataFrame(history.history).plot(figsize=(8, 5))\n",
    "    plt.grid(True)\n",
    "    plt.gca().set_ylim(0, 2.5)\n",
    "    plt.show()\n",
    "plot_learning_curves(history)"
   ]
  },
  {
   "cell_type": "code",
   "execution_count": 11,
   "metadata": {},
   "outputs": [
    {
     "data": {
      "text/plain": [
       "0.35349908471107483"
      ]
     },
     "execution_count": 11,
     "metadata": {},
     "output_type": "execute_result"
    }
   ],
   "source": [
    "#不是这个模型不好，而是搭建的比较简单\n",
    "model.evaluate(x_test_scaled, y_test, verbose=0)"
   ]
  },
  {
   "cell_type": "code",
   "execution_count": null,
   "metadata": {},
   "outputs": [],
   "source": []
  }
 ],
 "metadata": {
  "kernelspec": {
   "display_name": "Python 3",
   "language": "python",
   "name": "python3"
  },
  "language_info": {
   "codemirror_mode": {
    "name": "ipython",
    "version": 3
   },
   "file_extension": ".py",
   "mimetype": "text/x-python",
   "name": "python",
   "nbconvert_exporter": "python",
   "pygments_lexer": "ipython3",
   "version": "3.6.9"
  }
 },
 "nbformat": 4,
 "nbformat_minor": 2
}
